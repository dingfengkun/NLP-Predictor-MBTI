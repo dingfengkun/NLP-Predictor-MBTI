{
  "cells": [
    {
      "cell_type": "code",
      "execution_count": 40,
      "metadata": {
        "id": "QPTIpmLElm9t"
      },
      "outputs": [],
      "source": [
        "import torch\n",
        "import torch.nn as nn\n",
        "import torch.optim as optim\n",
        "from torch.utils.data import Dataset, DataLoader\n",
        "from sklearn.preprocessing import LabelEncoder\n",
        "from sklearn.model_selection import train_test_split\n",
        "import pandas as pd\n",
        "import numpy as np\n",
        "from tqdm import tqdm\n",
        "\n",
        "# 数据预处理类\n",
        "class MBTIDataset(Dataset):\n",
        "    def __init__(self, texts, labels, tokenizer, max_len):\n",
        "        self.texts = texts\n",
        "        self.labels = labels\n",
        "        self.tokenizer = tokenizer\n",
        "        self.max_len = max_len\n",
        "\n",
        "    def __len__(self):\n",
        "        return len(self.texts)\n",
        "\n",
        "    def __getitem__(self, idx):\n",
        "        text = str(self.texts[idx])\n",
        "        label = self.labels[idx]\n",
        "\n",
        "        # 文本序列化\n",
        "        sequence = self.tokenizer.texts_to_sequences([text])\n",
        "        padded_sequence = pad_sequences(sequence, maxlen=self.max_len, padding='post')[0]\n",
        "\n",
        "        return {\n",
        "            'text': torch.tensor(padded_sequence, dtype=torch.long),\n",
        "            'label': torch.tensor(label, dtype=torch.long)\n",
        "        }\n",
        "\n",
        "# LSTM模型架构\n",
        "class MBTILSTM(nn.Module):\n",
        "    def __init__(self, vocab_size, embedding_dim, hidden_dim, output_dim, n_layers,\n",
        "                 bidirectional, dropout):\n",
        "        super().__init__()\n",
        "\n",
        "        self.embedding = nn.Embedding(vocab_size, embedding_dim)\n",
        "\n",
        "        self.lstm = nn.LSTM(embedding_dim,\n",
        "                           hidden_dim,\n",
        "                           num_layers=n_layers,\n",
        "                           bidirectional=bidirectional,\n",
        "                           dropout=dropout,\n",
        "                           batch_first=True)\n",
        "\n",
        "        lstm_output_dim = hidden_dim * 2 if bidirectional else hidden_dim\n",
        "\n",
        "        self.fc = nn.Sequential(\n",
        "            nn.Dropout(dropout),\n",
        "            nn.Linear(lstm_output_dim, lstm_output_dim//2),\n",
        "            nn.ReLU(),\n",
        "            nn.Dropout(dropout),\n",
        "            nn.Linear(lstm_output_dim//2, output_dim)\n",
        "        )\n",
        "\n",
        "    def forward(self, text):\n",
        "        embedded = self.embedding(text)\n",
        "\n",
        "        # LSTM层\n",
        "        output, (hidden, cell) = self.lstm(embedded)\n",
        "\n",
        "        # 处理双向输出\n",
        "        if self.lstm.bidirectional:\n",
        "            hidden = torch.cat((hidden[-2], hidden[-1]), dim=1)\n",
        "        else:\n",
        "            hidden = hidden[-1]\n",
        "\n",
        "        return self.fc(hidden)\n",
        "\n"
      ]
    },
    {
      "cell_type": "code",
      "execution_count": 41,
      "metadata": {
        "id": "fSox_8n0lm9v"
      },
      "outputs": [],
      "source": [
        "# 超参数配置\n",
        "MAX_WORDS = 10000\n",
        "MAX_LEN = 500\n",
        "EMBEDDING_DIM = 128\n",
        "HIDDEN_DIM = 256\n",
        "OUTPUT_DIM = 16  # 16种MBTI类型\n",
        "N_LAYERS = 2\n",
        "BIDIRECTIONAL = True\n",
        "DROPOUT = 0.2\n",
        "BATCH_SIZE = 64\n",
        "EPOCHS = 15\n",
        "LEARNING_RATE = 0.001\n",
        "\n"
      ]
    },
    {
      "cell_type": "code",
      "execution_count": 32,
      "metadata": {
        "id": "qLkmt2Kklm9v"
      },
      "outputs": [],
      "source": [
        "#可以换一个Tokenizer\n",
        "import pickle\n",
        "from tensorflow.keras.preprocessing.text import Tokenizer\n",
        "from tensorflow.keras.preprocessing.sequence import pad_sequences\n",
        "# 数据准备\n",
        "\n",
        "df = pd.read_csv('MBTI 500.csv')\n",
        "label_encoder = LabelEncoder()\n",
        "label_encoder.classes_ = [\n",
        "    'INTP', 'ENTP', 'INFJ', 'ENFJ', 'INTJ', 'ENTJ', 'INFP', 'ENFP',\n",
        "    'ISTJ', 'ESTJ', 'ISFJ', 'ESFJ', 'ISTP', 'ESTP', 'ISFP', 'ESFP'\n",
        "]  # MBTI 类型\n",
        "texts = df['posts'].values\n",
        "labels = label_encoder.fit_transform(df['type'].values)\n",
        "\n",
        "# 创建Tokenizer\n",
        "tokenizer = Tokenizer(num_words=MAX_WORDS)\n",
        "tokenizer.fit_on_texts(texts)\n",
        "\n",
        "\n",
        "# ✅ 保存 LabelEncoder\n",
        "with open(\"label_encoder.pkl\", \"wb\") as f:\n",
        "    pickle.dump(label_encoder, f)\n",
        "\n",
        "# ✅ 构建并训练 Tokenizer\n",
        "tokenizer = Tokenizer(num_words=MAX_WORDS, oov_token=\"<OOV>\")\n",
        "tokenizer.fit_on_texts(texts)\n",
        "\n",
        "# ✅ 保存 Tokenizer\n",
        "with open(\"tokenizer.pkl\", \"wb\") as f:\n",
        "    pickle.dump(tokenizer, f)\n",
        "\n",
        "# 划分数据集\n",
        "X_train, X_val, y_train, y_val = train_test_split(\n",
        "    texts, labels, test_size=0.2, random_state=42\n",
        ")\n",
        "\n",
        "# 创建DataLoader\n",
        "train_dataset = MBTIDataset(X_train, y_train, tokenizer, MAX_LEN)\n",
        "val_dataset = MBTIDataset(X_val, y_val, tokenizer, MAX_LEN)\n",
        "\n",
        "train_loader = DataLoader(train_dataset, batch_size=BATCH_SIZE, shuffle=True)\n",
        "val_loader = DataLoader(val_dataset, batch_size=BATCH_SIZE)\n",
        "\n",
        "#whole dataset\n",
        "X_test,y_test =  texts, labels\n",
        "test_dataset = MBTIDataset(X_test, y_test,  tokenizer, MAX_LEN)\n",
        "test_loader = DataLoader(test_dataset, batch_size=BATCH_SIZE, shuffle=True)\n"
      ]
    },
    {
      "cell_type": "code",
      "source": [
        "# # ✅ 保存 Tokenizer\n",
        "# with open(\"tokenizer.pkl\", \"wb\") as f:\n",
        "#     pickle.dump(tokenizer, f)"
      ],
      "metadata": {
        "id": "pIo5N64W__sQ"
      },
      "execution_count": 34,
      "outputs": []
    },
    {
      "cell_type": "code",
      "source": [
        "print(set(y_train))\n"
      ],
      "metadata": {
        "colab": {
          "base_uri": "https://localhost:8080/"
        },
        "id": "P5Pgmh_rqC2H",
        "outputId": "37a160f2-31bf-4280-9d96-25fea6b9691e"
      },
      "execution_count": 24,
      "outputs": [
        {
          "output_type": "stream",
          "name": "stdout",
          "text": [
            "{np.int64(0), np.int64(1), np.int64(2), np.int64(3), np.int64(4), np.int64(5), np.int64(6), np.int64(7), np.int64(8), np.int64(9), np.int64(10), np.int64(11), np.int64(12), np.int64(13), np.int64(14), np.int64(15)}\n"
          ]
        }
      ]
    },
    {
      "cell_type": "code",
      "execution_count": 42,
      "metadata": {
        "id": "YoVx_m-Alm9v"
      },
      "outputs": [],
      "source": [
        "# 初始化模型\n",
        "device = torch.device('cuda' if torch.cuda.is_available() else 'cpu')\n",
        "model = MBTILSTM(MAX_WORDS, EMBEDDING_DIM, HIDDEN_DIM, OUTPUT_DIM,\n",
        "                N_LAYERS, BIDIRECTIONAL, DROPOUT).to(device)\n",
        "\n",
        "# 定义优化器和损失函数\n",
        "optimizer = optim.Adam(model.parameters(), lr=LEARNING_RATE)\n",
        "criterion = nn.CrossEntropyLoss()"
      ]
    },
    {
      "cell_type": "code",
      "source": [
        "EPOCHS=5"
      ],
      "metadata": {
        "id": "NvUn69RdAhGf"
      },
      "execution_count": 43,
      "outputs": []
    },
    {
      "cell_type": "code",
      "execution_count": 44,
      "metadata": {
        "colab": {
          "base_uri": "https://localhost:8080/"
        },
        "id": "47aUNYTLlm9v",
        "outputId": "946f6d2d-5665-43b2-fe93-057a345b39f4"
      },
      "outputs": [
        {
          "output_type": "stream",
          "name": "stderr",
          "text": [
            "Epoch 1/5: 100%|██████████| 1326/1326 [04:30<00:00,  4.91it/s]\n"
          ]
        },
        {
          "output_type": "stream",
          "name": "stdout",
          "text": [
            "Train Loss: 1.9620 | Train Acc: 26.85%\n",
            "Val Loss: 1.6701 | Val Acc: 35.83%\n"
          ]
        },
        {
          "output_type": "stream",
          "name": "stderr",
          "text": [
            "Epoch 2/5: 100%|██████████| 1326/1326 [04:30<00:00,  4.91it/s]\n"
          ]
        },
        {
          "output_type": "stream",
          "name": "stdout",
          "text": [
            "Train Loss: 1.0929 | Train Acc: 64.04%\n",
            "Val Loss: 0.7595 | Val Acc: 77.59%\n"
          ]
        },
        {
          "output_type": "stream",
          "name": "stderr",
          "text": [
            "Epoch 3/5: 100%|██████████| 1326/1326 [04:30<00:00,  4.90it/s]\n"
          ]
        },
        {
          "output_type": "stream",
          "name": "stdout",
          "text": [
            "Train Loss: 0.6616 | Train Acc: 80.42%\n",
            "Val Loss: 0.6446 | Val Acc: 80.61%\n"
          ]
        },
        {
          "output_type": "stream",
          "name": "stderr",
          "text": [
            "Epoch 4/5: 100%|██████████| 1326/1326 [04:30<00:00,  4.90it/s]\n"
          ]
        },
        {
          "output_type": "stream",
          "name": "stdout",
          "text": [
            "Train Loss: 0.5179 | Train Acc: 84.49%\n",
            "Val Loss: 0.5744 | Val Acc: 82.62%\n"
          ]
        },
        {
          "output_type": "stream",
          "name": "stderr",
          "text": [
            "Epoch 5/5: 100%|██████████| 1326/1326 [04:30<00:00,  4.90it/s]\n"
          ]
        },
        {
          "output_type": "stream",
          "name": "stdout",
          "text": [
            "Train Loss: 0.3927 | Train Acc: 88.15%\n",
            "Val Loss: 0.5848 | Val Acc: 82.97%\n",
            "Final Test Accuracy: 82.97%\n"
          ]
        }
      ],
      "source": [
        "# 训练循环\n",
        "best_val_acc = 0\n",
        "for epoch in range(EPOCHS):\n",
        "    # 训练阶段\n",
        "    model.train()\n",
        "    train_loss, train_acc = 0, 0\n",
        "    for batch in tqdm(train_loader, desc=f\"Epoch {epoch+1}/{EPOCHS}\"):\n",
        "        texts = batch['text'].to(device)\n",
        "        labels = batch['label'].to(device)\n",
        "\n",
        "        optimizer.zero_grad()\n",
        "\n",
        "        outputs = model(texts)\n",
        "        loss = criterion(outputs, labels)\n",
        "\n",
        "        loss.backward()\n",
        "        optimizer.step()\n",
        "\n",
        "        train_loss += loss.item()\n",
        "        train_acc += (outputs.argmax(1) == labels).sum().item()\n",
        "\n",
        "    # 验证阶段\n",
        "    model.eval()\n",
        "    val_loss, val_acc = 0, 0\n",
        "    with torch.no_grad():\n",
        "        for batch in val_loader:\n",
        "            texts = batch['text'].to(device)\n",
        "            labels = batch['label'].to(device)\n",
        "\n",
        "            outputs = model(texts)\n",
        "            loss = criterion(outputs, labels)\n",
        "\n",
        "            val_loss += loss.item()\n",
        "            val_acc += (outputs.argmax(1) == labels).sum().item()\n",
        "\n",
        "    # 计算指标\n",
        "    train_loss /= len(train_loader)\n",
        "    train_acc /= len(train_dataset)\n",
        "    val_loss /= len(val_loader)\n",
        "    val_acc /= len(val_dataset)\n",
        "\n",
        "    # 保存最佳模型\n",
        "    if val_acc > best_val_acc:\n",
        "        best_val_acc = val_acc\n",
        "        torch.save(model.state_dict(), 'best_model.pth')\n",
        "\n",
        "    print(f\"Train Loss: {train_loss:.4f} | Train Acc: {train_acc*100:.2f}%\")\n",
        "    print(f\"Val Loss: {val_loss:.4f} | Val Acc: {val_acc*100:.2f}%\")\n",
        "\n",
        "# 测试模型\n",
        "model.load_state_dict(torch.load('best_model.pth'))\n",
        "model.eval()\n",
        "test_acc = 0\n",
        "with torch.no_grad():\n",
        "    for batch in val_loader:\n",
        "        texts = batch['text'].to(device)\n",
        "        labels = batch['label'].to(device)\n",
        "\n",
        "        outputs = model(texts)\n",
        "        test_acc += (outputs.argmax(1) == labels).sum().item()\n",
        "\n",
        "test_acc /= len(val_dataset)\n",
        "print(f'Final Test Accuracy: {test_acc*100:.2f}%')"
      ]
    },
    {
      "cell_type": "code",
      "execution_count": 45,
      "metadata": {
        "colab": {
          "base_uri": "https://localhost:8080/"
        },
        "id": "-OPyTMgClm9v",
        "outputId": "6366a149-d318-4f94-baa4-cdc780384d73"
      },
      "outputs": [
        {
          "output_type": "stream",
          "name": "stdout",
          "text": [
            " Final Test Accuracy: 91.06%\n"
          ]
        }
      ],
      "source": [
        "# 测试整个数据集\n",
        "model.load_state_dict(torch.load('best_model.pth'))\n",
        "model.eval()\n",
        "test_acc = 0\n",
        "with torch.no_grad():\n",
        "    for batch in test_loader:\n",
        "        texts = batch['text'].to(device)\n",
        "        labels = batch['label'].to(device)\n",
        "\n",
        "        outputs = model(texts)\n",
        "        test_acc += (outputs.argmax(1) == labels).sum().item()\n",
        "\n",
        "test_acc /= len(test_dataset)\n",
        "print(f' Final Test Accuracy: {test_acc*100:.2f}%')"
      ]
    },
    {
      "cell_type": "code",
      "source": [
        "from sklearn.metrics import classification_report, confusion_matrix, f1_score\n",
        "import numpy as np\n",
        "\n",
        "# 收集预测和真实标签\n",
        "all_preds = []\n",
        "all_labels = []\n",
        "\n",
        "# 加载模型\n",
        "model.load_state_dict(torch.load('best_model.pth'))\n",
        "model.eval()\n",
        "\n",
        "with torch.no_grad():\n",
        "    for batch in val_loader:\n",
        "        texts = batch['text'].to(device)\n",
        "        labels = batch['label'].to(device)\n",
        "        outputs = model(texts)\n",
        "        preds = outputs.argmax(dim=1)\n",
        "\n",
        "        all_preds.extend(preds.cpu().numpy())\n",
        "        all_labels.extend(labels.cpu().numpy())\n",
        "\n",
        "# 转成 numpy array\n",
        "all_preds = np.array(all_preds)\n",
        "all_labels = np.array(all_labels)\n",
        "\n",
        "# 仅获取实际出现的类别\n",
        "unique_labels = np.unique(np.concatenate((all_preds, all_labels)))\n",
        "target_names = label_encoder.inverse_transform(unique_labels)\n",
        "\n",
        "# 打印分类报告\n",
        "print(\"Classification Report:\")\n",
        "print(classification_report(all_labels, all_preds, labels=unique_labels, target_names=target_names))\n",
        "\n",
        "# 打印混淆矩阵\n",
        "print(\"Confusion Matrix:\")\n",
        "print(confusion_matrix(all_labels, all_preds, labels=unique_labels))\n",
        "\n",
        "# 宏 F1 分数\n",
        "macro_f1 = f1_score(all_labels, all_preds, average='macro')\n",
        "print(f\"Macro F1 Score: {macro_f1:.4f}\")\n",
        "\n",
        "# 加权 F1 分数\n",
        "weighted_f1 = f1_score(all_labels, all_preds, average='weighted')\n",
        "print(f\"Weighted F1 Score: {weighted_f1:.4f}\")\n"
      ],
      "metadata": {
        "colab": {
          "base_uri": "https://localhost:8080/"
        },
        "id": "3xPn4DEmoaZG",
        "outputId": "a2988c74-4b7e-4117-9d10-a9c0350080f5"
      },
      "execution_count": 47,
      "outputs": [
        {
          "output_type": "stream",
          "name": "stdout",
          "text": [
            "Classification Report:\n",
            "              precision    recall  f1-score   support\n",
            "\n",
            "        ENFJ       0.73      0.68      0.70       319\n",
            "        ENFP       0.88      0.77      0.82      1249\n",
            "        ENTJ       0.87      0.80      0.83       577\n",
            "        ENTP       0.85      0.80      0.82      2324\n",
            "        ESFJ       0.00      0.00      0.00        33\n",
            "        ESFP       0.75      0.53      0.62        75\n",
            "        ESTJ       0.92      0.75      0.83       105\n",
            "        ESTP       0.90      0.88      0.89       398\n",
            "        INFJ       0.77      0.88      0.82      2954\n",
            "        INFP       0.81      0.83      0.82      2391\n",
            "        INTJ       0.85      0.84      0.85      4531\n",
            "        INTP       0.84      0.87      0.85      5033\n",
            "        ISFJ       0.65      0.55      0.59       132\n",
            "        ISFP       0.79      0.55      0.64       161\n",
            "        ISTJ       0.79      0.71      0.75       253\n",
            "        ISTP       0.82      0.75      0.78       679\n",
            "\n",
            "    accuracy                           0.83     21214\n",
            "   macro avg       0.76      0.70      0.73     21214\n",
            "weighted avg       0.83      0.83      0.83     21214\n",
            "\n",
            "Confusion Matrix:\n",
            "[[ 217    5    2    5    0    0    1    1   41   24    6   10    0    1\n",
            "     6    0]\n",
            " [   8  960    1   24    0    0    0    2   96   73   57   13    2    0\n",
            "     5    8]\n",
            " [  10    1  459   14    0    0    0    1    9   13   39   26    0    0\n",
            "     3    2]\n",
            " [   1   22   12 1857    0    0    2    9  102   33   94  166    1    1\n",
            "     5   19]\n",
            " [   2    5    0    6    0    1    1    1    7    1    3    3    2    1\n",
            "     0    0]\n",
            " [   5    4    1    3    0   40    1    0    2    3    0    0   12    3\n",
            "     0    1]\n",
            " [   7    0    4    2    0    1   79    1    3    3    1    0    3    0\n",
            "     1    0]\n",
            " [   1    1    0    5    0    0    0  350    6    3   11   12    0    0\n",
            "     3    6]\n",
            " [   9   30    3   52    0    0    1    2 2611  101   69   70    1    4\n",
            "     0    1]\n",
            " [   9   34    7   28    0    0    0    1  188 1989   46   71    3    6\n",
            "     2    7]\n",
            " [   2   21   15   65    0    0    0    2  155   50 3818  371    1    2\n",
            "     5   24]\n",
            " [   6    7   16  107    0    0    0    4  109   90  281 4372    1    0\n",
            "     9   31]\n",
            " [   6    2    1    3    0    0    0    1   19   16    1    4   72    2\n",
            "     4    1]\n",
            " [   5    2    1    4    0    8    0    1    8   19    3    4    9   88\n",
            "     5    4]\n",
            " [   7    0    1    4    0    3    1    0   12   13   11   10    4    1\n",
            "   180    6]\n",
            " [   2    1    2   16    0    0    0   14   21   13   30   67    0    3\n",
            "     1  509]]\n",
            "Macro F1 Score: 0.7273\n",
            "Weighted F1 Score: 0.8284\n"
          ]
        },
        {
          "output_type": "stream",
          "name": "stderr",
          "text": [
            "/usr/local/lib/python3.11/dist-packages/sklearn/metrics/_classification.py:1565: UndefinedMetricWarning: Precision is ill-defined and being set to 0.0 in labels with no predicted samples. Use `zero_division` parameter to control this behavior.\n",
            "  _warn_prf(average, modifier, f\"{metric.capitalize()} is\", len(result))\n",
            "/usr/local/lib/python3.11/dist-packages/sklearn/metrics/_classification.py:1565: UndefinedMetricWarning: Precision is ill-defined and being set to 0.0 in labels with no predicted samples. Use `zero_division` parameter to control this behavior.\n",
            "  _warn_prf(average, modifier, f\"{metric.capitalize()} is\", len(result))\n",
            "/usr/local/lib/python3.11/dist-packages/sklearn/metrics/_classification.py:1565: UndefinedMetricWarning: Precision is ill-defined and being set to 0.0 in labels with no predicted samples. Use `zero_division` parameter to control this behavior.\n",
            "  _warn_prf(average, modifier, f\"{metric.capitalize()} is\", len(result))\n"
          ]
        }
      ]
    },
    {
      "cell_type": "code",
      "execution_count": 49,
      "metadata": {
        "colab": {
          "base_uri": "https://localhost:8080/",
          "height": 149,
          "referenced_widgets": [
            "c91a332739054aee8b7ec7b5b0a2c521",
            "aed32432f25141baa9f865179200b7e9",
            "b10f5bfd524b4a6699fdbdcfe2af327b",
            "d972607e2b8d41e8b40cfe74fc076c46",
            "f8fc4194bac5437b8fc45900e8a1228b",
            "f7e716f6b4da471f846ead1fdd21432d",
            "1b1d1cacc2f9448d9df525f81dd5a1c9",
            "db906b6c159f4ae0b1a774b4165c954b",
            "97bfd54dc30c49e98ff8720e0f9e4734",
            "7a1215dfcf814f6091af7480f03d579b",
            "3647501c18b14822ad87b7eeeafa7a23"
          ]
        },
        "id": "XNEXDmknlm9v",
        "outputId": "74371d7f-df00-463c-ce57-17d055a84850"
      },
      "outputs": [
        {
          "output_type": "display_data",
          "data": {
            "text/plain": [
              "Text(value='', description='输入:', layout=Layout(width='400px'), placeholder='请输入文本...')"
            ],
            "application/vnd.jupyter.widget-view+json": {
              "version_major": 2,
              "version_minor": 0,
              "model_id": "c91a332739054aee8b7ec7b5b0a2c521"
            }
          },
          "metadata": {}
        },
        {
          "output_type": "display_data",
          "data": {
            "text/plain": [
              "Button(description='预测', style=ButtonStyle())"
            ],
            "application/vnd.jupyter.widget-view+json": {
              "version_major": 2,
              "version_minor": 0,
              "model_id": "d972607e2b8d41e8b40cfe74fc076c46"
            }
          },
          "metadata": {}
        },
        {
          "output_type": "display_data",
          "data": {
            "text/plain": [
              "Button(button_style='danger', description='退出', style=ButtonStyle())"
            ],
            "application/vnd.jupyter.widget-view+json": {
              "version_major": 2,
              "version_minor": 0,
              "model_id": "1b1d1cacc2f9448d9df525f81dd5a1c9"
            }
          },
          "metadata": {}
        },
        {
          "output_type": "display_data",
          "data": {
            "text/plain": [
              "Output()"
            ],
            "application/vnd.jupyter.widget-view+json": {
              "version_major": 2,
              "version_minor": 0,
              "model_id": "7a1215dfcf814f6091af7480f03d579b"
            }
          },
          "metadata": {}
        }
      ],
      "source": [
        "import torch\n",
        "import numpy as np\n",
        "import ipywidgets as widgets\n",
        "from IPython.display import display\n",
        "import pickle\n",
        "from tensorflow.keras.preprocessing.sequence import pad_sequences\n",
        "\n",
        "# ✅ 设定设备\n",
        "device = torch.device(\"cuda\" if torch.cuda.is_available() else \"cpu\")\n",
        "\n",
        "# ✅ 加载模型\n",
        "try:\n",
        "    model.load_state_dict(torch.load('best_model.pth', map_location=device))\n",
        "    model.to(device)\n",
        "    model.eval()\n",
        "except Exception as e:\n",
        "    print(f\"❌ 模型加载失败: {e}\")\n",
        "\n",
        "# ✅ 加载 tokenizer 和 label encoder\n",
        "try:\n",
        "    with open('tokenizer.pkl', 'rb') as f:\n",
        "        tokenizer = pickle.load(f)\n",
        "\n",
        "    with open('label_encoder.pkl', 'rb') as f:\n",
        "        label_encoder = pickle.load(f)\n",
        "except Exception as e:\n",
        "    print(f\"❌ Tokenizer 或 LabelEncoder 加载失败: {e}\")\n",
        "\n",
        "# ✅ 和训练时保持一致的最大长度\n",
        "MAX_LEN = 100\n",
        "\n",
        "# 🔹 创建输入框\n",
        "text_input = widgets.Text(\n",
        "    value='',\n",
        "    placeholder='请输入文本...',\n",
        "    description='输入:',\n",
        "    layout=widgets.Layout(width='400px')\n",
        ")\n",
        "\n",
        "# 🔹 创建按钮和输出区\n",
        "predict_button = widgets.Button(description=\"预测\")\n",
        "exit_button = widgets.Button(description=\"退出\", button_style='danger')\n",
        "output = widgets.Output()\n",
        "\n",
        "# 🔹 预测函数\n",
        "def predict_mbti(b):\n",
        "    with output:\n",
        "        output.clear_output()\n",
        "        user_input = text_input.value.strip()\n",
        "\n",
        "        if not user_input:\n",
        "            print(\"⚠️ 请输入文本内容！\")\n",
        "            return\n",
        "\n",
        "        try:\n",
        "            # 文本预处理\n",
        "            sequence = tokenizer.texts_to_sequences([user_input])\n",
        "            padded_sequence = pad_sequences(sequence, maxlen=MAX_LEN, padding='post')\n",
        "            texts = torch.tensor(padded_sequence, dtype=torch.long).to(device)\n",
        "\n",
        "            # 模型预测\n",
        "            with torch.no_grad():\n",
        "                outputs = model(texts)\n",
        "                predicted_label = outputs.argmax(1).item()\n",
        "                predicted_mbti = label_encoder.inverse_transform([predicted_label])[0]\n",
        "\n",
        "            # 显示结果\n",
        "            print(\"🧠 模型预测结果：\")\n",
        "            print(f\"👉 你的 MBTI 类型是：**{predicted_mbti}**\")\n",
        "        except Exception as e:\n",
        "            print(f\"❌ 预测时出错: {e}\")\n",
        "\n",
        "# 🔹 模拟退出按钮（适配 notebook，不使用 sys.exit）\n",
        "def exit_notebook(b):\n",
        "    with output:\n",
        "        output.clear_output()\n",
        "        print(\"📌 程序已退出，请手动关闭或停止 notebook。\")\n",
        "\n",
        "# 🔹 绑定按钮事件\n",
        "predict_button.on_click(predict_mbti)\n",
        "exit_button.on_click(exit_notebook)\n",
        "\n",
        "# 🔹 显示界面\n",
        "display(text_input, predict_button, exit_button, output)\n"
      ]
    },
    {
      "cell_type": "code",
      "execution_count": 8,
      "metadata": {
        "id": "WvDGlxkBlm9w"
      },
      "outputs": [],
      "source": []
    }
  ],
  "metadata": {
    "kernelspec": {
      "display_name": "Python 3",
      "name": "python3"
    },
    "language_info": {
      "codemirror_mode": {
        "name": "ipython",
        "version": 3
      },
      "file_extension": ".py",
      "mimetype": "text/x-python",
      "name": "python",
      "nbconvert_exporter": "python",
      "pygments_lexer": "ipython3",
      "version": "3.12.6"
    },
    "colab": {
      "provenance": [],
      "gpuType": "T4"
    },
    "accelerator": "GPU",
    "widgets": {
      "application/vnd.jupyter.widget-state+json": {
        "c91a332739054aee8b7ec7b5b0a2c521": {
          "model_module": "@jupyter-widgets/controls",
          "model_name": "TextModel",
          "model_module_version": "1.5.0",
          "state": {
            "_dom_classes": [],
            "_model_module": "@jupyter-widgets/controls",
            "_model_module_version": "1.5.0",
            "_model_name": "TextModel",
            "_view_count": null,
            "_view_module": "@jupyter-widgets/controls",
            "_view_module_version": "1.5.0",
            "_view_name": "TextView",
            "continuous_update": true,
            "description": "输入:",
            "description_tooltip": null,
            "disabled": false,
            "layout": "IPY_MODEL_aed32432f25141baa9f865179200b7e9",
            "placeholder": "请输入文本...",
            "style": "IPY_MODEL_b10f5bfd524b4a6699fdbdcfe2af327b",
            "value": "feel must really miss importance cognitive function well believe cognitive function develop model without guess would understatement best feel others notice touch emotion feel u infps almost never show emotion people unless show first go stoic robot emotional tampon quite time even good person yah care deeply congratulation compliment honestly feel gender mostly make idea impose u society physical sex one thing person feel like wrong body something free change want friend identify gender fluid feel like mean sometimes feel demure want bake wear fashionable clothe sometimes feel tough want go adventure wear practical clothe idea femininity masculinity outdated silly even everyone interest personality trait fall stereotypical gender role want think context belong category opposite category new category want example person body personality people keep encounter idea distinct way men woman suppose act future people feel anxiety wrong course think everyone self identify however want way think usually hesitant bring gender sensitive issue think definitely talkative recent example experience go friend party stress know importantly like everyone vibed really well talk hour everything harry potter ghost paranormal recently family family friend know well various thing come fe uncomfortable talk like politics clam right think depend talk mostly psychology philosophy movie hard drive watch try fit tonight thank unlike hillary already involve child sex traffic bad really shy lmao scanner thing really get help put word sense thoroughly confuse description add attack though adhd get foggy forget sound like aogether different problem misdiagnosis experience experience others know moment acute adhd akin kind anxiety attack high feel anxiety distress follow avoidance technique look like distraction happen split second sometimes distraction preempt anxiety know come pop cuure create many incorrect assumption adhd really boil form anxiety method cop preform stage petrify deal act like completely forget bury likely inane task remember scar closely pair scanner since scanner feel anxiety focus heavily one subject long due social condition also feel anxiety specialize nearly paralyze long since dea adhd without medication therapy sheer force frankly many adhd know mean mention gui snowball explain essentially give task complete certain deadline maybe complete maybe regardless nervous nervous avoid situation aogether submit effort nervous assignment absence compound continue avoid problem thing fall apart drop class quit job leave relationship core problem way force face situation part leave scanner side problem actually make use large small scale work best overstimulated engage many thing sometimes mean listen music youtube eat play videogames friend sometimes mean simuaneously five job work rush anyway end ramble guess still submit look pretty hot like tomorrowland pi user yes le know person stiff become seek happiness care try wherever broaden idea minimize ignorance harm love power metal freedom slay dragon usually cycle one follow response yeah know thank sorry weird like silence shoulder shrug stare yup unless say people really infps probably true mbti sub test system perfect silly say reeeeal one something unheahy infp would say get think little childish enjoy judge tho know find interest see another infp play hero storm lol probably"
          }
        },
        "aed32432f25141baa9f865179200b7e9": {
          "model_module": "@jupyter-widgets/base",
          "model_name": "LayoutModel",
          "model_module_version": "1.2.0",
          "state": {
            "_model_module": "@jupyter-widgets/base",
            "_model_module_version": "1.2.0",
            "_model_name": "LayoutModel",
            "_view_count": null,
            "_view_module": "@jupyter-widgets/base",
            "_view_module_version": "1.2.0",
            "_view_name": "LayoutView",
            "align_content": null,
            "align_items": null,
            "align_self": null,
            "border": null,
            "bottom": null,
            "display": null,
            "flex": null,
            "flex_flow": null,
            "grid_area": null,
            "grid_auto_columns": null,
            "grid_auto_flow": null,
            "grid_auto_rows": null,
            "grid_column": null,
            "grid_gap": null,
            "grid_row": null,
            "grid_template_areas": null,
            "grid_template_columns": null,
            "grid_template_rows": null,
            "height": null,
            "justify_content": null,
            "justify_items": null,
            "left": null,
            "margin": null,
            "max_height": null,
            "max_width": null,
            "min_height": null,
            "min_width": null,
            "object_fit": null,
            "object_position": null,
            "order": null,
            "overflow": null,
            "overflow_x": null,
            "overflow_y": null,
            "padding": null,
            "right": null,
            "top": null,
            "visibility": null,
            "width": "400px"
          }
        },
        "b10f5bfd524b4a6699fdbdcfe2af327b": {
          "model_module": "@jupyter-widgets/controls",
          "model_name": "DescriptionStyleModel",
          "model_module_version": "1.5.0",
          "state": {
            "_model_module": "@jupyter-widgets/controls",
            "_model_module_version": "1.5.0",
            "_model_name": "DescriptionStyleModel",
            "_view_count": null,
            "_view_module": "@jupyter-widgets/base",
            "_view_module_version": "1.2.0",
            "_view_name": "StyleView",
            "description_width": ""
          }
        },
        "d972607e2b8d41e8b40cfe74fc076c46": {
          "model_module": "@jupyter-widgets/controls",
          "model_name": "ButtonModel",
          "model_module_version": "1.5.0",
          "state": {
            "_dom_classes": [],
            "_model_module": "@jupyter-widgets/controls",
            "_model_module_version": "1.5.0",
            "_model_name": "ButtonModel",
            "_view_count": null,
            "_view_module": "@jupyter-widgets/controls",
            "_view_module_version": "1.5.0",
            "_view_name": "ButtonView",
            "button_style": "",
            "description": "预测",
            "disabled": false,
            "icon": "",
            "layout": "IPY_MODEL_f8fc4194bac5437b8fc45900e8a1228b",
            "style": "IPY_MODEL_f7e716f6b4da471f846ead1fdd21432d",
            "tooltip": ""
          }
        },
        "f8fc4194bac5437b8fc45900e8a1228b": {
          "model_module": "@jupyter-widgets/base",
          "model_name": "LayoutModel",
          "model_module_version": "1.2.0",
          "state": {
            "_model_module": "@jupyter-widgets/base",
            "_model_module_version": "1.2.0",
            "_model_name": "LayoutModel",
            "_view_count": null,
            "_view_module": "@jupyter-widgets/base",
            "_view_module_version": "1.2.0",
            "_view_name": "LayoutView",
            "align_content": null,
            "align_items": null,
            "align_self": null,
            "border": null,
            "bottom": null,
            "display": null,
            "flex": null,
            "flex_flow": null,
            "grid_area": null,
            "grid_auto_columns": null,
            "grid_auto_flow": null,
            "grid_auto_rows": null,
            "grid_column": null,
            "grid_gap": null,
            "grid_row": null,
            "grid_template_areas": null,
            "grid_template_columns": null,
            "grid_template_rows": null,
            "height": null,
            "justify_content": null,
            "justify_items": null,
            "left": null,
            "margin": null,
            "max_height": null,
            "max_width": null,
            "min_height": null,
            "min_width": null,
            "object_fit": null,
            "object_position": null,
            "order": null,
            "overflow": null,
            "overflow_x": null,
            "overflow_y": null,
            "padding": null,
            "right": null,
            "top": null,
            "visibility": null,
            "width": null
          }
        },
        "f7e716f6b4da471f846ead1fdd21432d": {
          "model_module": "@jupyter-widgets/controls",
          "model_name": "ButtonStyleModel",
          "model_module_version": "1.5.0",
          "state": {
            "_model_module": "@jupyter-widgets/controls",
            "_model_module_version": "1.5.0",
            "_model_name": "ButtonStyleModel",
            "_view_count": null,
            "_view_module": "@jupyter-widgets/base",
            "_view_module_version": "1.2.0",
            "_view_name": "StyleView",
            "button_color": null,
            "font_weight": ""
          }
        },
        "1b1d1cacc2f9448d9df525f81dd5a1c9": {
          "model_module": "@jupyter-widgets/controls",
          "model_name": "ButtonModel",
          "model_module_version": "1.5.0",
          "state": {
            "_dom_classes": [],
            "_model_module": "@jupyter-widgets/controls",
            "_model_module_version": "1.5.0",
            "_model_name": "ButtonModel",
            "_view_count": null,
            "_view_module": "@jupyter-widgets/controls",
            "_view_module_version": "1.5.0",
            "_view_name": "ButtonView",
            "button_style": "danger",
            "description": "退出",
            "disabled": false,
            "icon": "",
            "layout": "IPY_MODEL_db906b6c159f4ae0b1a774b4165c954b",
            "style": "IPY_MODEL_97bfd54dc30c49e98ff8720e0f9e4734",
            "tooltip": ""
          }
        },
        "db906b6c159f4ae0b1a774b4165c954b": {
          "model_module": "@jupyter-widgets/base",
          "model_name": "LayoutModel",
          "model_module_version": "1.2.0",
          "state": {
            "_model_module": "@jupyter-widgets/base",
            "_model_module_version": "1.2.0",
            "_model_name": "LayoutModel",
            "_view_count": null,
            "_view_module": "@jupyter-widgets/base",
            "_view_module_version": "1.2.0",
            "_view_name": "LayoutView",
            "align_content": null,
            "align_items": null,
            "align_self": null,
            "border": null,
            "bottom": null,
            "display": null,
            "flex": null,
            "flex_flow": null,
            "grid_area": null,
            "grid_auto_columns": null,
            "grid_auto_flow": null,
            "grid_auto_rows": null,
            "grid_column": null,
            "grid_gap": null,
            "grid_row": null,
            "grid_template_areas": null,
            "grid_template_columns": null,
            "grid_template_rows": null,
            "height": null,
            "justify_content": null,
            "justify_items": null,
            "left": null,
            "margin": null,
            "max_height": null,
            "max_width": null,
            "min_height": null,
            "min_width": null,
            "object_fit": null,
            "object_position": null,
            "order": null,
            "overflow": null,
            "overflow_x": null,
            "overflow_y": null,
            "padding": null,
            "right": null,
            "top": null,
            "visibility": null,
            "width": null
          }
        },
        "97bfd54dc30c49e98ff8720e0f9e4734": {
          "model_module": "@jupyter-widgets/controls",
          "model_name": "ButtonStyleModel",
          "model_module_version": "1.5.0",
          "state": {
            "_model_module": "@jupyter-widgets/controls",
            "_model_module_version": "1.5.0",
            "_model_name": "ButtonStyleModel",
            "_view_count": null,
            "_view_module": "@jupyter-widgets/base",
            "_view_module_version": "1.2.0",
            "_view_name": "StyleView",
            "button_color": null,
            "font_weight": ""
          }
        },
        "7a1215dfcf814f6091af7480f03d579b": {
          "model_module": "@jupyter-widgets/output",
          "model_name": "OutputModel",
          "model_module_version": "1.0.0",
          "state": {
            "_dom_classes": [],
            "_model_module": "@jupyter-widgets/output",
            "_model_module_version": "1.0.0",
            "_model_name": "OutputModel",
            "_view_count": null,
            "_view_module": "@jupyter-widgets/output",
            "_view_module_version": "1.0.0",
            "_view_name": "OutputView",
            "layout": "IPY_MODEL_3647501c18b14822ad87b7eeeafa7a23",
            "msg_id": "",
            "outputs": [
              {
                "output_type": "stream",
                "name": "stdout",
                "text": [
                  "🧠 模型预测结果：\n",
                  "👉 你的 MBTI 类型是：**INFP**\n"
                ]
              }
            ]
          }
        },
        "3647501c18b14822ad87b7eeeafa7a23": {
          "model_module": "@jupyter-widgets/base",
          "model_name": "LayoutModel",
          "model_module_version": "1.2.0",
          "state": {
            "_model_module": "@jupyter-widgets/base",
            "_model_module_version": "1.2.0",
            "_model_name": "LayoutModel",
            "_view_count": null,
            "_view_module": "@jupyter-widgets/base",
            "_view_module_version": "1.2.0",
            "_view_name": "LayoutView",
            "align_content": null,
            "align_items": null,
            "align_self": null,
            "border": null,
            "bottom": null,
            "display": null,
            "flex": null,
            "flex_flow": null,
            "grid_area": null,
            "grid_auto_columns": null,
            "grid_auto_flow": null,
            "grid_auto_rows": null,
            "grid_column": null,
            "grid_gap": null,
            "grid_row": null,
            "grid_template_areas": null,
            "grid_template_columns": null,
            "grid_template_rows": null,
            "height": null,
            "justify_content": null,
            "justify_items": null,
            "left": null,
            "margin": null,
            "max_height": null,
            "max_width": null,
            "min_height": null,
            "min_width": null,
            "object_fit": null,
            "object_position": null,
            "order": null,
            "overflow": null,
            "overflow_x": null,
            "overflow_y": null,
            "padding": null,
            "right": null,
            "top": null,
            "visibility": null,
            "width": null
          }
        }
      }
    }
  },
  "nbformat": 4,
  "nbformat_minor": 0
}