{
  "cells": [
    {
      "cell_type": "code",
      "source": [
        "import re\n",
        "import time\n",
        "import pandas as pd\n",
        "from sklearn.feature_extraction.text import TfidfVectorizer\n",
        "from sklearn.preprocessing import LabelEncoder\n",
        "from sklearn.model_selection import train_test_split\n",
        "from sklearn.metrics import classification_report, accuracy_score"
      ],
      "metadata": {
        "id": "h3o1Zx4KvPNU"
      },
      "id": "h3o1Zx4KvPNU",
      "execution_count": 1,
      "outputs": []
    },
    {
      "cell_type": "code",
      "execution_count": 2,
      "id": "61248eab",
      "metadata": {
        "id": "61248eab"
      },
      "outputs": [],
      "source": [
        "import re\n",
        "\n",
        "def clean_text(text):\n",
        "    text = text.lower()\n",
        "    text = re.sub(r\"http\\S+|www\\S+\", \"\", text)\n",
        "    text = re.sub(r\"<.*?>\", \"\", text)\n",
        "    text = re.sub(r\"[^a-z\\s]\", \"\", text)\n",
        "    text = re.sub(r\"\\s+\", \" \", text).strip()\n",
        "    return text\n"
      ]
    },
    {
      "cell_type": "code",
      "execution_count": 3,
      "id": "d7f7e282",
      "metadata": {
        "id": "d7f7e282"
      },
      "outputs": [],
      "source": [
        "import pandas as pd\n",
        "df = pd.read_csv('MBTI_500.csv')\n",
        "df['clean_posts'] = df['posts'].apply(clean_text)"
      ]
    },
    {
      "cell_type": "code",
      "execution_count": 4,
      "id": "96747fe5",
      "metadata": {
        "id": "96747fe5"
      },
      "outputs": [],
      "source": [
        "# TF-IDF vectorized text\n",
        "from sklearn.feature_extraction.text import TfidfVectorizer\n",
        "X_tfidf = TfidfVectorizer().fit_transform(df['clean_posts'])"
      ]
    },
    {
      "cell_type": "code",
      "execution_count": 5,
      "id": "c24b6e13",
      "metadata": {
        "id": "c24b6e13"
      },
      "outputs": [],
      "source": [
        "# Label encoder\n",
        "from sklearn.preprocessing import LabelEncoder\n",
        "le = LabelEncoder()\n",
        "y = le.fit_transform(df['type'])"
      ]
    },
    {
      "cell_type": "code",
      "execution_count": 6,
      "id": "fac0e920",
      "metadata": {
        "id": "fac0e920"
      },
      "outputs": [],
      "source": [
        "#  Divide dataset\n",
        "from sklearn.model_selection import train_test_split\n",
        "\n",
        "X_train, X_val, y_train, y_val = train_test_split(X_tfidf, y, test_size=0.2, random_state=42)\n"
      ]
    },
    {
      "cell_type": "code",
      "execution_count": 10,
      "id": "26cab536",
      "metadata": {
        "colab": {
          "base_uri": "https://localhost:8080/"
        },
        "id": "26cab536",
        "outputId": "82fe0afc-2094-42cf-8a42-a673ff3468c7"
      },
      "outputs": [
        {
          "output_type": "stream",
          "name": "stdout",
          "text": [
            "Logistic Regression Accuracy: 0.8297822192891486\n",
            "              precision    recall  f1-score   support\n",
            "\n",
            "        ENFJ       0.68      0.78      0.73       319\n",
            "        ENFP       0.76      0.83      0.80      1249\n",
            "        ENTJ       0.75      0.88      0.81       577\n",
            "        ENTP       0.84      0.83      0.84      2324\n",
            "        ESFJ       0.59      0.70      0.64        33\n",
            "        ESFP       0.63      0.69      0.66        75\n",
            "        ESTJ       0.83      0.89      0.86       105\n",
            "        ESTP       0.83      0.93      0.88       398\n",
            "        INFJ       0.85      0.81      0.83      2954\n",
            "        INFP       0.80      0.82      0.81      2391\n",
            "        INTJ       0.87      0.83      0.85      4531\n",
            "        INTP       0.89      0.83      0.86      5033\n",
            "        ISFJ       0.55      0.81      0.66       132\n",
            "        ISFP       0.53      0.78      0.63       161\n",
            "        ISTJ       0.57      0.84      0.68       253\n",
            "        ISTP       0.79      0.87      0.83       679\n",
            "\n",
            "    accuracy                           0.83     21214\n",
            "   macro avg       0.74      0.82      0.77     21214\n",
            "weighted avg       0.84      0.83      0.83     21214\n",
            "\n",
            "         40675 function calls (40602 primitive calls) in 145.732 seconds\n",
            "\n",
            "   Ordered by: cumulative time\n",
            "   List reduced from 524 to 20 due to restriction <20>\n",
            "\n",
            "   ncalls  tottime  percall  cumtime  percall filename:lineno(function)\n",
            "        2    0.000    0.000  145.733   72.866 interactiveshell.py:3512(run_code)\n",
            "        2    0.000    0.000  145.733   72.866 {built-in method builtins.exec}\n",
            "        1    0.000    0.000  145.732  145.732 <ipython-input-10-822560552161>:9(train_and_predict)\n",
            "        1    0.000    0.000  145.596  145.596 base.py:1372(wrapper)\n",
            "        1    0.000    0.000  145.595  145.595 _logistic.py:1163(fit)\n",
            "        1    0.000    0.000  145.573  145.573 parallel.py:54(__call__)\n",
            "        1    0.000    0.000  145.573  145.573 parallel.py:1902(__call__)\n",
            "        3    0.000    0.000  145.573   48.524 parallel.py:1819(_get_sequential_output)\n",
            "        1    0.043    0.043  145.573  145.573 parallel.py:125(__call__)\n",
            "        1    0.004    0.004  145.530  145.530 _logistic.py:99(_logistic_regression_path)\n",
            "        1    0.005    0.005  145.456  145.456 _minimize.py:53(minimize)\n",
            "        1   38.613   38.613  145.451  145.451 _lbfgsb_py.py:250(_minimize_lbfgsb)\n",
            "       89    0.003    0.000  104.236    1.171 _differentiable_functions.py:340(fun_and_grad)\n",
            "       90    0.001    0.000  103.058    1.145 _differentiable_functions.py:292(_update_fun)\n",
            "       89    0.004    0.000  103.057    1.158 _differentiable_functions.py:15(wrapped)\n",
            "      178    1.362    0.008  103.018    0.579 _optimize.py:70(_compute_if_needed)\n",
            "       89    0.001    0.000  102.449    1.151 _optimize.py:77(__call__)\n",
            "       89    2.216    0.025  100.752    1.132 _linear_loss.py:266(loss_gradient)\n",
            "      179    0.002    0.000   96.106    0.537 _base.py:544(_matmul_dispatch)\n",
            "      179    0.006    0.000   96.104    0.537 _compressed.py:496(_matmul_multivector)\n",
            "\n",
            "\n"
          ]
        },
        {
          "output_type": "execute_result",
          "data": {
            "text/plain": [
              "<pstats.Stats at 0x7faa46646590>"
            ]
          },
          "metadata": {},
          "execution_count": 10
        }
      ],
      "source": [
        "# Use cProfile to determine where we should optimized\n",
        "import time\n",
        "from sklearn.linear_model import LogisticRegression\n",
        "from sklearn.ensemble import RandomForestClassifier\n",
        "from sklearn.metrics import classification_report, accuracy_score\n",
        "import cProfile\n",
        "import pstats\n",
        "\n",
        "def train_and_predict():\n",
        "    lr = LogisticRegression(max_iter=1000, class_weight='balanced')\n",
        "    lr.fit(X_train, y_train)\n",
        "    y_pred_lr = lr.predict(X_val)\n",
        "\n",
        "    # Print results\n",
        "    print(\"Logistic Regression Accuracy:\", accuracy_score(y_val, y_pred_lr))\n",
        "    print(classification_report(y_val, y_pred_lr, target_names=le.classes_))\n",
        "\n",
        "profiler = cProfile.Profile()\n",
        "profiler.enable()\n",
        "\n",
        "train_and_predict()\n",
        "\n",
        "profiler.disable()\n",
        "stats = pstats.Stats(profiler).strip_dirs().sort_stats('cumtime')\n",
        "stats.print_stats(20)"
      ]
    },
    {
      "cell_type": "code",
      "source": [
        "import time\n",
        "from sklearn.linear_model import LogisticRegression\n",
        "from sklearn.ensemble import RandomForestClassifier\n",
        "from sklearn.metrics import classification_report, accuracy_score\n",
        "\n",
        "# Logistic Regression\n",
        "start_train = time.time()\n",
        "lr = LogisticRegression(\n",
        "    solver='lbfgs',\n",
        "    max_iter=300,\n",
        "    tol=1e-4,\n",
        "    class_weight='balanced',\n",
        "    n_jobs=-1\n",
        ")\n",
        "lr.fit(X_train, y_train)\n",
        "end_train = time.time()\n",
        "train_time_lr = end_train - start_train\n",
        "\n",
        "start_pred = time.time()\n",
        "y_pred_lr = lr.predict(X_val)\n",
        "end_pred = time.time()\n",
        "pred_time_lr = end_pred - start_pred\n",
        "\n",
        "# Print results\n",
        "print(\"Logistic Regression Accuracy:\", accuracy_score(y_val, y_pred_lr))\n",
        "print(classification_report(y_val, y_pred_lr, target_names=le.classes_))\n",
        "print(f\"LR Training time: {train_time_lr:.4f} seconds\")\n",
        "print(f\"LR Prediction time: {pred_time_lr:.4f} seconds\")"
      ],
      "metadata": {
        "colab": {
          "base_uri": "https://localhost:8080/"
        },
        "id": "mr6cVxWS3N13",
        "outputId": "7e61582a-e1a8-472b-de09-631f7fbc83ba"
      },
      "id": "mr6cVxWS3N13",
      "execution_count": 11,
      "outputs": [
        {
          "output_type": "stream",
          "name": "stdout",
          "text": [
            "Logistic Regression Accuracy: 0.8297822192891486\n",
            "              precision    recall  f1-score   support\n",
            "\n",
            "        ENFJ       0.68      0.78      0.73       319\n",
            "        ENFP       0.76      0.83      0.80      1249\n",
            "        ENTJ       0.75      0.88      0.81       577\n",
            "        ENTP       0.84      0.83      0.84      2324\n",
            "        ESFJ       0.59      0.70      0.64        33\n",
            "        ESFP       0.63      0.69      0.66        75\n",
            "        ESTJ       0.83      0.89      0.86       105\n",
            "        ESTP       0.83      0.93      0.88       398\n",
            "        INFJ       0.85      0.81      0.83      2954\n",
            "        INFP       0.80      0.82      0.81      2391\n",
            "        INTJ       0.87      0.83      0.85      4531\n",
            "        INTP       0.89      0.83      0.86      5033\n",
            "        ISFJ       0.55      0.81      0.66       132\n",
            "        ISFP       0.53      0.78      0.63       161\n",
            "        ISTJ       0.57      0.84      0.68       253\n",
            "        ISTP       0.79      0.87      0.83       679\n",
            "\n",
            "    accuracy                           0.83     21214\n",
            "   macro avg       0.74      0.82      0.77     21214\n",
            "weighted avg       0.84      0.83      0.83     21214\n",
            "\n",
            "LR Training time: 138.4818 seconds\n",
            "LR Prediction time: 0.1123 seconds\n"
          ]
        }
      ]
    },
    {
      "cell_type": "code",
      "source": [
        "import cProfile\n",
        "import pstats\n",
        "import io\n",
        "\n",
        "def train_and_predict_rf():\n",
        "    from sklearn.ensemble import RandomForestClassifier\n",
        "    from sklearn.metrics import accuracy_score, classification_report\n",
        "\n",
        "    rf = RandomForestClassifier(n_estimators=100, class_weight='balanced', random_state=42)\n",
        "\n",
        "    rf.fit(X_train, y_train)\n",
        "    y_pred_rf = rf.predict(X_val)\n",
        "\n",
        "    print(\"Random Forest Accuracy:\", accuracy_score(y_val, y_pred_rf))\n",
        "    print(classification_report(y_val, y_pred_rf, target_names=le.classes_))\n",
        "\n",
        "profiler = cProfile.Profile()\n",
        "profiler.enable()\n",
        "\n",
        "train_and_predict_rf()\n",
        "\n",
        "profiler.disable()\n",
        "\n",
        "stream = io.StringIO()\n",
        "stats = pstats.Stats(profiler, stream=stream).sort_stats('cumtime')\n",
        "stats.print_stats(20)\n",
        "print(stream.getvalue())"
      ],
      "metadata": {
        "colab": {
          "base_uri": "https://localhost:8080/"
        },
        "id": "ngjnpdxP1AWv",
        "outputId": "f52c5bd4-c2f4-4833-fe30-e1510713f5bf"
      },
      "id": "ngjnpdxP1AWv",
      "execution_count": 12,
      "outputs": [
        {
          "output_type": "stream",
          "name": "stdout",
          "text": [
            "Random Forest Accuracy: 0.5231450928632035\n",
            "              precision    recall  f1-score   support\n",
            "\n",
            "        ENFJ       0.00      0.00      0.00       319\n",
            "        ENFP       0.85      0.10      0.18      1249\n",
            "        ENTJ       1.00      0.16      0.27       577\n",
            "        ENTP       0.78      0.23      0.35      2324\n",
            "        ESFJ       0.00      0.00      0.00        33\n",
            "        ESFP       0.00      0.00      0.00        75\n",
            "        ESTJ       0.92      0.67      0.77       105\n",
            "        ESTP       0.94      0.68      0.79       398\n",
            "        INFJ       0.57      0.55      0.56      2954\n",
            "        INFP       0.74      0.33      0.46      2391\n",
            "        INTJ       0.52      0.70      0.60      4531\n",
            "        INTP       0.44      0.87      0.59      5033\n",
            "        ISFJ       0.00      0.00      0.00       132\n",
            "        ISFP       0.00      0.00      0.00       161\n",
            "        ISTJ       0.00      0.00      0.00       253\n",
            "        ISTP       1.00      0.02      0.03       679\n",
            "\n",
            "    accuracy                           0.52     21214\n",
            "   macro avg       0.49      0.27      0.29     21214\n",
            "weighted avg       0.60      0.52      0.47     21214\n",
            "\n",
            "         278928 function calls (276045 primitive calls) in 1389.734 seconds\n",
            "\n",
            "   Ordered by: cumulative time\n",
            "   List reduced from 527 to 20 due to restriction <20>\n",
            "\n",
            "   ncalls  tottime  percall  cumtime  percall filename:lineno(function)\n",
            "        2    0.000    0.000 1389.850  694.925 /usr/local/lib/python3.11/dist-packages/IPython/core/interactiveshell.py:3512(run_code)\n",
            "        2    0.000    0.000 1389.849  694.925 {built-in method builtins.exec}\n",
            "        1    0.000    0.000 1389.738 1389.738 <ipython-input-12-b004a00311dc>:5(train_and_predict_rf)\n",
            "        2    0.000    0.000 1388.440  694.220 /usr/local/lib/python3.11/dist-packages/sklearn/utils/parallel.py:54(__call__)\n",
            "        2    0.000    0.000 1388.440  694.220 /usr/local/lib/python3.11/dist-packages/joblib/parallel.py:1902(__call__)\n",
            "      204    0.003    0.000 1388.440    6.806 /usr/local/lib/python3.11/dist-packages/joblib/parallel.py:1819(_get_sequential_output)\n",
            "      200    0.003    0.000 1388.426    6.942 /usr/local/lib/python3.11/dist-packages/sklearn/utils/parallel.py:125(__call__)\n",
            "        1    0.001    0.001 1383.555 1383.555 /usr/local/lib/python3.11/dist-packages/sklearn/base.py:1372(wrapper)\n",
            "        1    0.000    0.000 1383.554 1383.554 /usr/local/lib/python3.11/dist-packages/sklearn/ensemble/_forest.py:328(fit)\n",
            "      100    0.064    0.001 1382.635   13.826 /usr/local/lib/python3.11/dist-packages/sklearn/ensemble/_forest.py:151(_parallel_build_trees)\n",
            "      100 1381.747   13.817 1382.373   13.824 /usr/local/lib/python3.11/dist-packages/sklearn/tree/_classes.py:231(_fit)\n",
            "        1    0.000    0.000    6.158    6.158 /usr/local/lib/python3.11/dist-packages/sklearn/ensemble/_forest.py:883(predict)\n",
            "        1    0.000    0.000    6.157    6.157 /usr/local/lib/python3.11/dist-packages/sklearn/ensemble/_forest.py:922(predict_proba)\n",
            "      100    0.043    0.000    5.773    0.058 /usr/local/lib/python3.11/dist-packages/sklearn/ensemble/_forest.py:724(_accumulate_prediction)\n",
            "      100    5.714    0.057    5.730    0.057 /usr/local/lib/python3.11/dist-packages/sklearn/tree/_classes.py:1032(predict_proba)\n",
            "      415    0.009    0.000    1.148    0.003 /usr/local/lib/python3.11/dist-packages/sklearn/utils/validation.py:736(check_array)\n",
            "        2    0.000    0.000    1.100    0.550 /usr/local/lib/python3.11/dist-packages/sklearn/utils/validation.py:2835(validate_data)\n",
            "        2    0.001    0.000    1.099    0.549 /usr/local/lib/python3.11/dist-packages/sklearn/utils/validation.py:536(_ensure_sparse_format)\n",
            "        1    0.000    0.000    0.734    0.734 /usr/local/lib/python3.11/dist-packages/sklearn/utils/validation.py:1203(check_X_y)\n",
            "        1    0.000    0.000    0.623    0.623 /usr/local/lib/python3.11/dist-packages/scipy/sparse/_base.py:381(asformat)\n",
            "\n",
            "\n",
            "\n"
          ]
        },
        {
          "output_type": "stream",
          "name": "stderr",
          "text": [
            "/usr/local/lib/python3.11/dist-packages/sklearn/metrics/_classification.py:1565: UndefinedMetricWarning: Precision is ill-defined and being set to 0.0 in labels with no predicted samples. Use `zero_division` parameter to control this behavior.\n",
            "  _warn_prf(average, modifier, f\"{metric.capitalize()} is\", len(result))\n",
            "/usr/local/lib/python3.11/dist-packages/sklearn/metrics/_classification.py:1565: UndefinedMetricWarning: Precision is ill-defined and being set to 0.0 in labels with no predicted samples. Use `zero_division` parameter to control this behavior.\n",
            "  _warn_prf(average, modifier, f\"{metric.capitalize()} is\", len(result))\n",
            "/usr/local/lib/python3.11/dist-packages/sklearn/metrics/_classification.py:1565: UndefinedMetricWarning: Precision is ill-defined and being set to 0.0 in labels with no predicted samples. Use `zero_division` parameter to control this behavior.\n",
            "  _warn_prf(average, modifier, f\"{metric.capitalize()} is\", len(result))\n"
          ]
        }
      ]
    },
    {
      "cell_type": "code",
      "source": [
        "from sklearn.ensemble import RandomForestClassifier\n",
        "from sklearn.decomposition import TruncatedSVD\n",
        "from sklearn.metrics import accuracy_score, classification_report\n",
        "import time\n",
        "\n",
        "svd = TruncatedSVD(n_components=300, random_state=42)\n",
        "X_train_reduced = svd.fit_transform(X_train)\n",
        "X_val_reduced = svd.transform(X_val)\n",
        "\n",
        "rf = RandomForestClassifier(\n",
        "    n_estimators=100,\n",
        "    max_depth=15,\n",
        "    min_samples_leaf=2,\n",
        "    class_weight='balanced',\n",
        "    n_jobs=-1,\n",
        "    random_state=42\n",
        ")\n",
        "\n",
        "start_train = time.time()\n",
        "rf.fit(X_train_reduced, y_train)\n",
        "end_train = time.time()\n",
        "train_time_rf = end_train - start_train\n",
        "\n",
        "start_pred = time.time()\n",
        "y_pred_rf = rf.predict(X_val_reduced)\n",
        "end_pred = time.time()\n",
        "pred_time_rf = end_pred - start_pred\n",
        "\n",
        "print(\"Random Forest Accuracy:\", accuracy_score(y_val, y_pred_rf))\n",
        "print(classification_report(y_val, y_pred_rf, target_names=le.classes_))\n",
        "print(f\"RF Training time: {train_time_rf:.4f} seconds\")\n",
        "print(f\"RF Prediction time: {pred_time_rf:.4f} seconds\")\n"
      ],
      "metadata": {
        "colab": {
          "base_uri": "https://localhost:8080/"
        },
        "id": "6WOsIvw54Fa-",
        "outputId": "072a3676-508e-49d3-97b7-482386fc1afb"
      },
      "id": "6WOsIvw54Fa-",
      "execution_count": 13,
      "outputs": [
        {
          "output_type": "stream",
          "name": "stdout",
          "text": [
            "Random Forest Accuracy: 0.7026491939285378\n",
            "              precision    recall  f1-score   support\n",
            "\n",
            "        ENFJ       0.71      0.38      0.50       319\n",
            "        ENFP       0.59      0.76      0.67      1249\n",
            "        ENTJ       0.68      0.72      0.70       577\n",
            "        ENTP       0.71      0.65      0.67      2324\n",
            "        ESFJ       0.50      0.12      0.20        33\n",
            "        ESFP       0.80      0.21      0.34        75\n",
            "        ESTJ       0.91      0.71      0.80       105\n",
            "        ESTP       0.79      0.87      0.83       398\n",
            "        INFJ       0.70      0.73      0.72      2954\n",
            "        INFP       0.63      0.73      0.68      2391\n",
            "        INTJ       0.73      0.73      0.73      4531\n",
            "        INTP       0.75      0.71      0.73      5033\n",
            "        ISFJ       0.81      0.33      0.46       132\n",
            "        ISFP       0.51      0.40      0.45       161\n",
            "        ISTJ       0.70      0.39      0.50       253\n",
            "        ISTP       0.70      0.65      0.67       679\n",
            "\n",
            "    accuracy                           0.70     21214\n",
            "   macro avg       0.70      0.57      0.60     21214\n",
            "weighted avg       0.71      0.70      0.70     21214\n",
            "\n",
            "RF Training time: 52.0934 seconds\n",
            "RF Prediction time: 0.1191 seconds\n"
          ]
        }
      ]
    }
  ],
  "metadata": {
    "kernelspec": {
      "display_name": "Python 3",
      "name": "python3"
    },
    "language_info": {
      "codemirror_mode": {
        "name": "ipython",
        "version": 3
      },
      "file_extension": ".py",
      "mimetype": "text/x-python",
      "name": "python",
      "nbconvert_exporter": "python",
      "pygments_lexer": "ipython3",
      "version": "3.12.7"
    },
    "colab": {
      "provenance": [],
      "machine_shape": "hm"
    }
  },
  "nbformat": 4,
  "nbformat_minor": 5
}