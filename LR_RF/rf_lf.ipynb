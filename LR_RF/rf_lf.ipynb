{
  "cells": [
    {
      "cell_type": "code",
      "source": [
        "import re\n",
        "import time\n",
        "import pandas as pd\n",
        "from sklearn.feature_extraction.text import TfidfVectorizer\n",
        "from sklearn.preprocessing import LabelEncoder\n",
        "from sklearn.model_selection import train_test_split\n",
        "from sklearn.linear_model import LogisticRegression\n",
        "from sklearn.ensemble import RandomForestClassifier\n",
        "from sklearn.metrics import classification_report, accuracy_score"
      ],
      "metadata": {
        "id": "pn7H1JIpF_Eo"
      },
      "id": "pn7H1JIpF_Eo",
      "execution_count": 11,
      "outputs": []
    },
    {
      "cell_type": "code",
      "source": [
        "class LogisticRegressionModel:\n",
        "    def __init__(self, csv_path):\n",
        "        self.csv_path = csv_path\n",
        "        self.df = None\n",
        "        self.X_train = None\n",
        "        self.X_val = None\n",
        "        self.y_train = None\n",
        "        self.y_val = None\n",
        "        self.model = LogisticRegression(max_iter=1000, class_weight='balanced')\n",
        "        self.le = LabelEncoder()\n",
        "\n",
        "    def clean_text(self, text):\n",
        "        text = text.lower()\n",
        "        text = re.sub(r\"http\\S+|www\\S+\", \"\", text)\n",
        "        text = re.sub(r\"<.*?>\", \"\", text)\n",
        "        text = re.sub(r\"[^a-z\\s]\", \"\", text)\n",
        "        text = re.sub(r\"\\s+\", \" \", text).strip()\n",
        "        return text\n",
        "\n",
        "    def load_and_prepare_data(self):\n",
        "        self.df = pd.read_csv(self.csv_path)\n",
        "        self.df['clean_posts'] = self.df['posts'].apply(self.clean_text)\n",
        "\n",
        "        X_tfidf = TfidfVectorizer().fit_transform(self.df['clean_posts'])\n",
        "        y = self.le.fit_transform(self.df['type'])\n",
        "\n",
        "        self.X_train, self.X_val, self.y_train, self.y_val = train_test_split(\n",
        "            X_tfidf, y, test_size=0.2, random_state=42)\n",
        "\n",
        "    def train_and_evaluate(self):\n",
        "        start_train = time.time()\n",
        "        self.model.fit(self.X_train, self.y_train)\n",
        "        train_time = time.time() - start_train\n",
        "\n",
        "        start_pred = time.time()\n",
        "        y_pred = self.model.predict(self.X_val)\n",
        "        pred_time = time.time() - start_pred\n",
        "\n",
        "        acc = accuracy_score(self.y_val, y_pred)\n",
        "        report = classification_report(self.y_val, y_pred, target_names=self.le.classes_)\n",
        "\n",
        "        print(\"Logistic Regression Accuracy:\", acc)\n",
        "        print(report)\n",
        "        print(f\"Training time: {train_time:.4f} seconds\")\n",
        "        print(f\"Prediction time: {pred_time:.4f} seconds\")"
      ],
      "metadata": {
        "id": "94MQIisKF_HH"
      },
      "id": "94MQIisKF_HH",
      "execution_count": null,
      "outputs": []
    },
    {
      "cell_type": "code",
      "source": [
        "model = LogisticRegressionModel('MBTI_500.csv')\n",
        "model.load_and_prepare_data()\n",
        "model.train_and_evaluate()"
      ],
      "metadata": {
        "colab": {
          "base_uri": "https://localhost:8080/"
        },
        "id": "HoX-_uzSF_Lq",
        "outputId": "d72eaeb6-7927-495e-e0ba-f2fe3ea2d6a0"
      },
      "id": "HoX-_uzSF_Lq",
      "execution_count": null,
      "outputs": [
        {
          "output_type": "stream",
          "name": "stdout",
          "text": [
            "Logistic Regression Accuracy: 0.8297822192891486\n",
            "              precision    recall  f1-score   support\n",
            "\n",
            "        ENFJ       0.68      0.78      0.73       319\n",
            "        ENFP       0.76      0.83      0.80      1249\n",
            "        ENTJ       0.75      0.88      0.81       577\n",
            "        ENTP       0.84      0.83      0.84      2324\n",
            "        ESFJ       0.59      0.70      0.64        33\n",
            "        ESFP       0.63      0.69      0.66        75\n",
            "        ESTJ       0.83      0.89      0.86       105\n",
            "        ESTP       0.83      0.93      0.88       398\n",
            "        INFJ       0.85      0.81      0.83      2954\n",
            "        INFP       0.80      0.82      0.81      2391\n",
            "        INTJ       0.87      0.83      0.85      4531\n",
            "        INTP       0.89      0.83      0.86      5033\n",
            "        ISFJ       0.55      0.81      0.66       132\n",
            "        ISFP       0.53      0.78      0.63       161\n",
            "        ISTJ       0.57      0.84      0.68       253\n",
            "        ISTP       0.79      0.87      0.83       679\n",
            "\n",
            "    accuracy                           0.83     21214\n",
            "   macro avg       0.74      0.82      0.77     21214\n",
            "weighted avg       0.84      0.83      0.83     21214\n",
            "\n",
            "Training time: 189.2948 seconds\n",
            "Prediction time: 0.1889 seconds\n"
          ]
        }
      ]
    },
    {
      "cell_type": "code",
      "source": [
        "class RandomForestModel:\n",
        "    def __init__(self, csv_path):\n",
        "        self.csv_path = csv_path\n",
        "        self.df = None\n",
        "        self.X_train = None\n",
        "        self.X_val = None\n",
        "        self.y_train = None\n",
        "        self.y_val = None\n",
        "        self.model = RandomForestClassifier(n_estimators=100, class_weight='balanced', random_state=42)\n",
        "        self.le = LabelEncoder()\n",
        "\n",
        "    def clean_text(self, text):\n",
        "        text = text.lower()\n",
        "        text = re.sub(r\"http\\S+|www\\S+\", \"\", text)\n",
        "        text = re.sub(r\"<.*?>\", \"\", text)\n",
        "        text = re.sub(r\"[^a-z\\s]\", \"\", text)\n",
        "        text = re.sub(r\"\\s+\", \" \", text).strip()\n",
        "        return text\n",
        "\n",
        "    def load_and_prepare_data(self):\n",
        "        self.df = pd.read_csv(self.csv_path)\n",
        "        self.df['clean_posts'] = self.df['posts'].apply(self.clean_text)\n",
        "\n",
        "        X_tfidf = TfidfVectorizer().fit_transform(self.df['clean_posts'])\n",
        "        y = self.le.fit_transform(self.df['type'])\n",
        "\n",
        "        self.X_train, self.X_val, self.y_train, self.y_val = train_test_split(\n",
        "            X_tfidf, y, test_size=0.2, random_state=42)\n",
        "\n",
        "    def train_and_evaluate(self):\n",
        "        start_train = time.time()\n",
        "        self.model.fit(self.X_train, self.y_train)\n",
        "        train_time = time.time() - start_train\n",
        "\n",
        "        start_pred = time.time()\n",
        "        y_pred = self.model.predict(self.X_val)\n",
        "        pred_time = time.time() - start_pred\n",
        "\n",
        "        acc = accuracy_score(self.y_val, y_pred)\n",
        "        report = classification_report(self.y_val, y_pred, target_names=self.le.classes_)\n",
        "\n",
        "        print(\"Random Forest Accuracy:\", acc)\n",
        "        print(report)\n",
        "        print(f\"Training time: {train_time:.4f} seconds\")\n",
        "        print(f\"Prediction time: {pred_time:.4f} seconds\")"
      ],
      "metadata": {
        "id": "BWLbBQBT1PA9"
      },
      "id": "BWLbBQBT1PA9",
      "execution_count": 12,
      "outputs": []
    },
    {
      "cell_type": "code",
      "source": [
        "model = RandomForestModel('MBTI_500.csv')\n",
        "model.load_and_prepare_data()\n",
        "model.train_and_evaluate()"
      ],
      "metadata": {
        "colab": {
          "base_uri": "https://localhost:8080/"
        },
        "id": "D7lVrDUF1PKj",
        "outputId": "5c8d3773-b592-4c34-91ee-d93500c70d35"
      },
      "id": "D7lVrDUF1PKj",
      "execution_count": 13,
      "outputs": [
        {
          "output_type": "stream",
          "name": "stdout",
          "text": [
            "Random Forest Accuracy: 0.5231450928632035\n",
            "              precision    recall  f1-score   support\n",
            "\n",
            "        ENFJ       0.00      0.00      0.00       319\n",
            "        ENFP       0.85      0.10      0.18      1249\n",
            "        ENTJ       1.00      0.16      0.27       577\n",
            "        ENTP       0.78      0.23      0.35      2324\n",
            "        ESFJ       0.00      0.00      0.00        33\n",
            "        ESFP       0.00      0.00      0.00        75\n",
            "        ESTJ       0.92      0.67      0.77       105\n",
            "        ESTP       0.94      0.68      0.79       398\n",
            "        INFJ       0.57      0.55      0.56      2954\n",
            "        INFP       0.74      0.33      0.46      2391\n",
            "        INTJ       0.52      0.70      0.60      4531\n",
            "        INTP       0.44      0.87      0.59      5033\n",
            "        ISFJ       0.00      0.00      0.00       132\n",
            "        ISFP       0.00      0.00      0.00       161\n",
            "        ISTJ       0.00      0.00      0.00       253\n",
            "        ISTP       1.00      0.02      0.03       679\n",
            "\n",
            "    accuracy                           0.52     21214\n",
            "   macro avg       0.49      0.27      0.29     21214\n",
            "weighted avg       0.60      0.52      0.47     21214\n",
            "\n",
            "Training time: 1572.7156 seconds\n",
            "Prediction time: 8.5159 seconds\n"
          ]
        },
        {
          "output_type": "stream",
          "name": "stderr",
          "text": [
            "/usr/local/lib/python3.11/dist-packages/sklearn/metrics/_classification.py:1565: UndefinedMetricWarning: Precision is ill-defined and being set to 0.0 in labels with no predicted samples. Use `zero_division` parameter to control this behavior.\n",
            "  _warn_prf(average, modifier, f\"{metric.capitalize()} is\", len(result))\n",
            "/usr/local/lib/python3.11/dist-packages/sklearn/metrics/_classification.py:1565: UndefinedMetricWarning: Precision is ill-defined and being set to 0.0 in labels with no predicted samples. Use `zero_division` parameter to control this behavior.\n",
            "  _warn_prf(average, modifier, f\"{metric.capitalize()} is\", len(result))\n",
            "/usr/local/lib/python3.11/dist-packages/sklearn/metrics/_classification.py:1565: UndefinedMetricWarning: Precision is ill-defined and being set to 0.0 in labels with no predicted samples. Use `zero_division` parameter to control this behavior.\n",
            "  _warn_prf(average, modifier, f\"{metric.capitalize()} is\", len(result))\n"
          ]
        }
      ]
    },
    {
      "cell_type": "code",
      "source": [],
      "metadata": {
        "id": "SuBcJJxi1PQB"
      },
      "id": "SuBcJJxi1PQB",
      "execution_count": null,
      "outputs": []
    }
  ],
  "metadata": {
    "kernelspec": {
      "display_name": "Python 3 (ipykernel)",
      "language": "python",
      "name": "python3"
    },
    "language_info": {
      "codemirror_mode": {
        "name": "ipython",
        "version": 3
      },
      "file_extension": ".py",
      "mimetype": "text/x-python",
      "name": "python",
      "nbconvert_exporter": "python",
      "pygments_lexer": "ipython3",
      "version": "3.12.7"
    },
    "colab": {
      "provenance": []
    }
  },
  "nbformat": 4,
  "nbformat_minor": 5
}