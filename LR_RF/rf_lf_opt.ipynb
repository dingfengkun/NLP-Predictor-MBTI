{
  "cells": [
    {
      "cell_type": "code",
      "source": [
        "import re\n",
        "import time\n",
        "import pandas as pd\n",
        "from sklearn.feature_extraction.text import TfidfVectorizer\n",
        "from sklearn.preprocessing import LabelEncoder\n",
        "from sklearn.model_selection import train_test_split\n",
        "from sklearn.linear_model import LogisticRegression\n",
        "from sklearn.metrics import classification_report, accuracy_score"
      ],
      "metadata": {
        "id": "2e6w0psbnRZ5"
      },
      "id": "2e6w0psbnRZ5",
      "execution_count": 1,
      "outputs": []
    },
    {
      "cell_type": "code",
      "source": [
        "class LogisticRegressionOpt:\n",
        "    def __init__(self, csv_path):\n",
        "        self.csv_path = csv_path\n",
        "        self.df = None\n",
        "        self.X_train = None\n",
        "        self.X_val = None\n",
        "        self.y_train = None\n",
        "        self.y_val = None\n",
        "        self.le = LabelEncoder()\n",
        "        self.model = LogisticRegression(\n",
        "            solver='lbfgs',\n",
        "            max_iter=300,\n",
        "            tol=1e-4,\n",
        "            class_weight='balanced',\n",
        "            n_jobs=-1\n",
        "        )\n",
        "\n",
        "    def clean_text(self, text):\n",
        "        text = text.lower()\n",
        "        text = re.sub(r\"http\\S+|www\\S+\", \"\", text)\n",
        "        text = re.sub(r\"<.*?>\", \"\", text)\n",
        "        text = re.sub(r\"[^a-z\\s]\", \"\", text)\n",
        "        text = re.sub(r\"\\s+\", \" \", text).strip()\n",
        "        return text\n",
        "\n",
        "    def load_and_prepare_data(self):\n",
        "        self.df = pd.read_csv(self.csv_path)\n",
        "        self.df['clean_posts'] = self.df['posts'].apply(self.clean_text)\n",
        "\n",
        "        X_tfidf = TfidfVectorizer().fit_transform(self.df['clean_posts'])\n",
        "        y = self.le.fit_transform(self.df['type'])\n",
        "\n",
        "        self.X_train, self.X_val, self.y_train, self.y_val = train_test_split(\n",
        "            X_tfidf, y, test_size=0.2, random_state=42\n",
        "        )\n",
        "\n",
        "    def train_and_evaluate(self):\n",
        "        start_train = time.time()\n",
        "        self.model.fit(self.X_train, self.y_train)\n",
        "        train_time = time.time() - start_train\n",
        "\n",
        "        start_pred = time.time()\n",
        "        y_pred = self.model.predict(self.X_val)\n",
        "        pred_time = time.time() - start_pred\n",
        "\n",
        "        acc = accuracy_score(self.y_val, y_pred)\n",
        "        report = classification_report(self.y_val, y_pred, target_names=self.le.classes_)\n",
        "\n",
        "        print(\"Logistic Regression Accuracy:\", acc)\n",
        "        print(report)\n",
        "        print(f\"Training time: {train_time:.4f} seconds\")\n",
        "        print(f\"Prediction time: {pred_time:.4f} seconds\")"
      ],
      "metadata": {
        "id": "56AfxrzznReO"
      },
      "id": "56AfxrzznReO",
      "execution_count": 2,
      "outputs": []
    },
    {
      "cell_type": "code",
      "source": [
        "model = LogisticRegressionOpt('MBTI_500.csv')\n",
        "model.load_and_prepare_data()\n",
        "model.train_and_evaluate()"
      ],
      "metadata": {
        "colab": {
          "base_uri": "https://localhost:8080/"
        },
        "id": "ghkDgOyZnRjw",
        "outputId": "1fde2b52-7b96-4f79-dbf1-c8e82f0e2d4a"
      },
      "id": "ghkDgOyZnRjw",
      "execution_count": 3,
      "outputs": [
        {
          "output_type": "stream",
          "name": "stdout",
          "text": [
            "Logistic Regression Accuracy: 0.8297822192891486\n",
            "              precision    recall  f1-score   support\n",
            "\n",
            "        ENFJ       0.68      0.78      0.73       319\n",
            "        ENFP       0.76      0.83      0.80      1249\n",
            "        ENTJ       0.75      0.88      0.81       577\n",
            "        ENTP       0.84      0.83      0.84      2324\n",
            "        ESFJ       0.59      0.70      0.64        33\n",
            "        ESFP       0.63      0.69      0.66        75\n",
            "        ESTJ       0.83      0.89      0.86       105\n",
            "        ESTP       0.83      0.93      0.88       398\n",
            "        INFJ       0.85      0.81      0.83      2954\n",
            "        INFP       0.80      0.82      0.81      2391\n",
            "        INTJ       0.87      0.83      0.85      4531\n",
            "        INTP       0.89      0.83      0.86      5033\n",
            "        ISFJ       0.55      0.81      0.66       132\n",
            "        ISFP       0.53      0.78      0.63       161\n",
            "        ISTJ       0.57      0.84      0.68       253\n",
            "        ISTP       0.79      0.87      0.83       679\n",
            "\n",
            "    accuracy                           0.83     21214\n",
            "   macro avg       0.74      0.82      0.77     21214\n",
            "weighted avg       0.84      0.83      0.83     21214\n",
            "\n",
            "Training time: 90.9816 seconds\n",
            "Prediction time: 0.0841 seconds\n"
          ]
        }
      ]
    },
    {
      "cell_type": "code",
      "source": [
        "import re\n",
        "import time\n",
        "import pandas as pd\n",
        "from sklearn.feature_extraction.text import TfidfVectorizer\n",
        "from sklearn.preprocessing import LabelEncoder\n",
        "from sklearn.model_selection import train_test_split\n",
        "from sklearn.ensemble import RandomForestClassifier\n",
        "from sklearn.decomposition import TruncatedSVD\n",
        "from sklearn.metrics import accuracy_score, classification_report"
      ],
      "metadata": {
        "id": "ncMjhismH6NF"
      },
      "id": "ncMjhismH6NF",
      "execution_count": 4,
      "outputs": []
    },
    {
      "cell_type": "code",
      "source": [
        "class RandomForestOpt:\n",
        "    def __init__(self, csv_path):\n",
        "        self.csv_path = csv_path\n",
        "        self.df = None\n",
        "        self.X_train = None\n",
        "        self.X_val = None\n",
        "        self.y_train = None\n",
        "        self.y_val = None\n",
        "        self.le = LabelEncoder()\n",
        "        self.model = RandomForestClassifier(\n",
        "            n_estimators=100,\n",
        "            max_depth=15,\n",
        "            min_samples_leaf=2,\n",
        "            class_weight='balanced',\n",
        "            n_jobs=-1,\n",
        "            random_state=42\n",
        "        )\n",
        "        self.svd = TruncatedSVD(n_components=300, random_state=42)\n",
        "\n",
        "    def clean_text(self, text):\n",
        "        text = text.lower()\n",
        "        text = re.sub(r\"http\\S+|www\\S+\", \"\", text)\n",
        "        text = re.sub(r\"<.*?>\", \"\", text)\n",
        "        text = re.sub(r\"[^a-z\\s]\", \"\", text)\n",
        "        text = re.sub(r\"\\s+\", \" \", text).strip()\n",
        "        return text\n",
        "\n",
        "    def load_and_prepare_data(self):\n",
        "        self.df = pd.read_csv(self.csv_path)\n",
        "        self.df['clean_posts'] = self.df['posts'].apply(self.clean_text)\n",
        "\n",
        "        X_tfidf = TfidfVectorizer().fit_transform(self.df['clean_posts'])\n",
        "        y = self.le.fit_transform(self.df['type'])\n",
        "\n",
        "        X_train, X_val, y_train, y_val = train_test_split(\n",
        "            X_tfidf, y, test_size=0.2, random_state=42\n",
        "        )\n",
        "\n",
        "        self.X_train = self.svd.fit_transform(X_train)\n",
        "        self.X_val = self.svd.transform(X_val)\n",
        "        self.y_train = y_train\n",
        "        self.y_val = y_val\n",
        "\n",
        "    def train_and_evaluate(self):\n",
        "        start_train = time.time()\n",
        "        self.model.fit(self.X_train, self.y_train)\n",
        "        train_time = time.time() - start_train\n",
        "\n",
        "        start_pred = time.time()\n",
        "        y_pred = self.model.predict(self.X_val)\n",
        "        pred_time = time.time() - start_pred\n",
        "\n",
        "        acc = accuracy_score(self.y_val, y_pred)\n",
        "        report = classification_report(self.y_val, y_pred, target_names=self.le.classes_)\n",
        "\n",
        "        print(\"Random Forest Accuracy:\", acc)\n",
        "        print(report)\n",
        "        print(f\"Training time: {train_time:.4f} seconds\")\n",
        "        print(f\"Prediction time: {pred_time:.4f} seconds\")"
      ],
      "metadata": {
        "id": "_HaxZnpdH6Q6"
      },
      "id": "_HaxZnpdH6Q6",
      "execution_count": 5,
      "outputs": []
    },
    {
      "cell_type": "code",
      "source": [
        "model = RandomForestOpt('MBTI_500.csv')\n",
        "model.load_and_prepare_data()\n",
        "model.train_and_evaluate()"
      ],
      "metadata": {
        "colab": {
          "base_uri": "https://localhost:8080/"
        },
        "id": "BqnWfOW2H6UD",
        "outputId": "ecf73332-bc99-484d-da00-9d3d510011bf"
      },
      "id": "BqnWfOW2H6UD",
      "execution_count": 6,
      "outputs": [
        {
          "output_type": "stream",
          "name": "stdout",
          "text": [
            "Random Forest Accuracy: 0.7026491939285378\n",
            "              precision    recall  f1-score   support\n",
            "\n",
            "        ENFJ       0.71      0.38      0.50       319\n",
            "        ENFP       0.59      0.76      0.67      1249\n",
            "        ENTJ       0.68      0.72      0.70       577\n",
            "        ENTP       0.71      0.65      0.67      2324\n",
            "        ESFJ       0.50      0.12      0.20        33\n",
            "        ESFP       0.80      0.21      0.34        75\n",
            "        ESTJ       0.91      0.71      0.80       105\n",
            "        ESTP       0.79      0.87      0.83       398\n",
            "        INFJ       0.70      0.73      0.72      2954\n",
            "        INFP       0.63      0.73      0.68      2391\n",
            "        INTJ       0.73      0.73      0.73      4531\n",
            "        INTP       0.75      0.71      0.73      5033\n",
            "        ISFJ       0.81      0.33      0.46       132\n",
            "        ISFP       0.51      0.40      0.45       161\n",
            "        ISTJ       0.70      0.39      0.50       253\n",
            "        ISTP       0.70      0.65      0.67       679\n",
            "\n",
            "    accuracy                           0.70     21214\n",
            "   macro avg       0.70      0.57      0.60     21214\n",
            "weighted avg       0.71      0.70      0.70     21214\n",
            "\n",
            "Training time: 35.0589 seconds\n",
            "Prediction time: 0.1045 seconds\n"
          ]
        }
      ]
    }
  ],
  "metadata": {
    "kernelspec": {
      "display_name": "Python 3",
      "name": "python3"
    },
    "language_info": {
      "codemirror_mode": {
        "name": "ipython",
        "version": 3
      },
      "file_extension": ".py",
      "mimetype": "text/x-python",
      "name": "python",
      "nbconvert_exporter": "python",
      "pygments_lexer": "ipython3",
      "version": "3.12.7"
    },
    "colab": {
      "provenance": [],
      "machine_shape": "hm"
    }
  },
  "nbformat": 4,
  "nbformat_minor": 5
}