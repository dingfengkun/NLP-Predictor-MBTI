{
  "cells": [
    {
      "cell_type": "code",
      "execution_count": null,
      "id": "cff70bcf-17d0-4a34-b48c-b7d39ae235b9",
      "metadata": {
        "colab": {
          "base_uri": "https://localhost:8080/"
        },
        "id": "cff70bcf-17d0-4a34-b48c-b7d39ae235b9",
        "outputId": "0d8d33ae-2cae-40ea-9fa4-facd5a35854c"
      },
      "outputs": [
        {
          "output_type": "stream",
          "name": "stdout",
          "text": [
            "Requirement already satisfied: lightgbm in /usr/local/lib/python3.11/dist-packages (4.5.0)\n",
            "Requirement already satisfied: numpy>=1.17.0 in /usr/local/lib/python3.11/dist-packages (from lightgbm) (2.0.2)\n",
            "Requirement already satisfied: scipy in /usr/local/lib/python3.11/dist-packages (from lightgbm) (1.14.1)\n"
          ]
        }
      ],
      "source": [
        "!pip install lightgbm"
      ]
    },
    {
      "cell_type": "code",
      "source": [
        "import re\n",
        "import pandas as pd\n",
        "import numpy as np\n",
        "from sklearn.feature_extraction.text import TfidfVectorizer\n",
        "from sklearn.preprocessing import LabelEncoder\n",
        "from sklearn.model_selection import train_test_split\n",
        "from sklearn.linear_model import LogisticRegression\n",
        "from sklearn.metrics import classification_report, accuracy_score\n",
        "from lightgbm import LGBMClassifier"
      ],
      "metadata": {
        "id": "9VvhYq8ezlWc"
      },
      "id": "9VvhYq8ezlWc",
      "execution_count": 1,
      "outputs": []
    },
    {
      "cell_type": "code",
      "source": [
        "def clean_text(text):\n",
        "    text = text.lower()\n",
        "    text = re.sub(r\"http\\S+|www\\S+\", \"\", text)\n",
        "    text = re.sub(r\"<.*?>\", \"\", text)\n",
        "    text = re.sub(r\"[^a-z\\s]\", \"\", text)\n",
        "    text = re.sub(r\"\\s+\", \" \", text).strip()\n",
        "    return text\n"
      ],
      "metadata": {
        "id": "8QucWfmGzld2"
      },
      "id": "8QucWfmGzld2",
      "execution_count": 2,
      "outputs": []
    },
    {
      "cell_type": "code",
      "source": [
        "df = pd.read_csv('cleaned_mbti_parallel.csv')\n",
        "df['clean_posts'] = df['POST'].apply(clean_text)"
      ],
      "metadata": {
        "id": "GLavViQszlhW"
      },
      "id": "GLavViQszlhW",
      "execution_count": 3,
      "outputs": []
    },
    {
      "cell_type": "code",
      "source": [
        "# TF-IDF vectorized text\n",
        "vectorizer = TfidfVectorizer(max_features=1000)\n",
        "X_tfidf = vectorizer.fit_transform(df['clean_posts'])"
      ],
      "metadata": {
        "id": "EIcMYVWZzljh"
      },
      "id": "EIcMYVWZzljh",
      "execution_count": 4,
      "outputs": []
    },
    {
      "cell_type": "code",
      "source": [
        "# Label encoder\n",
        "le = LabelEncoder()\n",
        "y = le.fit_transform(df['MBTI'])"
      ],
      "metadata": {
        "id": "Va8l48l01xKg"
      },
      "id": "Va8l48l01xKg",
      "execution_count": 6,
      "outputs": []
    },
    {
      "cell_type": "code",
      "source": [
        "# Divide the dataset\n",
        "X_train, X_val, y_train, y_val = train_test_split(X_tfidf, y, test_size=0.2, random_state=42)"
      ],
      "metadata": {
        "id": "ep09_NBC1xM9"
      },
      "id": "ep09_NBC1xM9",
      "execution_count": 7,
      "outputs": []
    },
    {
      "cell_type": "code",
      "source": [
        "# Logistic Regression as baseline model\n",
        "lr = LogisticRegression(max_iter=1000, class_weight='balanced')\n",
        "lr.fit(X_train, y_train)\n",
        "y_pred_lr = lr.predict(X_val)\n",
        "\n",
        "print(\"🔹 Logistic Regression Accuracy:\", accuracy_score(y_val, y_pred_lr))\n",
        "print(classification_report(y_val, y_pred_lr, target_names=le.classes_))"
      ],
      "metadata": {
        "colab": {
          "base_uri": "https://localhost:8080/"
        },
        "id": "j46QbFKP1zSb",
        "outputId": "bf3b7f8c-8425-4c37-f747-d4f26e8715fa"
      },
      "id": "j46QbFKP1zSb",
      "execution_count": 8,
      "outputs": [
        {
          "output_type": "stream",
          "name": "stdout",
          "text": [
            "🔹 Logistic Regression Accuracy: 0.10941427351110182\n",
            "              precision    recall  f1-score   support\n",
            "\n",
            "        ENFJ       0.03      0.15      0.04      1694\n",
            "        ENFP       0.15      0.14      0.14      9193\n",
            "        ENTJ       0.05      0.14      0.07      3732\n",
            "        ENTP       0.21      0.08      0.12     16266\n",
            "        ESFJ       0.00      0.16      0.00       185\n",
            "        ESFP       0.01      0.22      0.02       496\n",
            "        ESTJ       0.01      0.23      0.01       406\n",
            "        ESTP       0.02      0.20      0.03       858\n",
            "        INFJ       0.31      0.12      0.18     21384\n",
            "        INFP       0.25      0.14      0.18     18077\n",
            "        INTJ       0.39      0.10      0.16     37718\n",
            "        INTP       0.44      0.10      0.16     44851\n",
            "        ISFJ       0.01      0.12      0.02       715\n",
            "        ISFP       0.01      0.14      0.03       899\n",
            "        ISTJ       0.03      0.20      0.04      1714\n",
            "        ISTP       0.05      0.09      0.06      4533\n",
            "\n",
            "    accuracy                           0.11    162721\n",
            "   macro avg       0.12      0.15      0.08    162721\n",
            "weighted avg       0.31      0.11      0.15    162721\n",
            "\n"
          ]
        }
      ]
    },
    {
      "cell_type": "code",
      "source": [
        "import time\n",
        "\n",
        "# LightGBM replaces Random Forest\n",
        "lgbm = LGBMClassifier(\n",
        "    objective='multiclass',\n",
        "    num_class=16,\n",
        "    learning_rate=0.1,\n",
        "    n_estimators=100,\n",
        "    class_weight='balanced',\n",
        "    random_state=42,\n",
        "    n_jobs=-1\n",
        ")\n",
        "\n",
        "# Record training time\n",
        "start_train = time.time()\n",
        "lgbm.fit(X_train, y_train)\n",
        "end_train = time.time()\n",
        "train_time = end_train - start_train\n",
        "\n",
        "# Record Predict time\n",
        "start_pred = time.time()\n",
        "y_pred_lgbm = lgbm.predict(X_val)\n",
        "end_pred = time.time()\n",
        "pred_time = end_pred - start_pred\n",
        "\n",
        "# Result and training time\n",
        "print(\"🔹 LightGBM Accuracy:\", accuracy_score(y_val, y_pred_lgbm))\n",
        "print(classification_report(y_val, y_pred_lgbm, target_names=le.classes_))\n",
        "print(f\" Training time: {train_time:.4f} seconds\")\n",
        "print(f\" Prediction time: {pred_time:.4f} seconds\")\n"
      ],
      "metadata": {
        "colab": {
          "base_uri": "https://localhost:8080/"
        },
        "id": "HZgJGksy1-JZ",
        "outputId": "2ebad3a6-5afa-4e47-a3a6-13bc5f75c5a3"
      },
      "id": "HZgJGksy1-JZ",
      "execution_count": 9,
      "outputs": [
        {
          "output_type": "stream",
          "name": "stderr",
          "text": [
            "/usr/local/lib/python3.11/dist-packages/sklearn/utils/deprecation.py:151: FutureWarning: 'force_all_finite' was renamed to 'ensure_all_finite' in 1.6 and will be removed in 1.8.\n",
            "  warnings.warn(\n"
          ]
        },
        {
          "output_type": "stream",
          "name": "stdout",
          "text": [
            "[LightGBM] [Info] Auto-choosing row-wise multi-threading, the overhead of testing was 14.177881 seconds.\n",
            "You can set `force_row_wise=true` to remove the overhead.\n",
            "And if memory is not enough, you can set `force_col_wise=true`.\n",
            "[LightGBM] [Info] Total Bins 255000\n",
            "[LightGBM] [Info] Number of data points in the train set: 650881, number of used features: 1000\n",
            "[LightGBM] [Info] Start training from score -2.772589\n",
            "[LightGBM] [Info] Start training from score -2.772589\n",
            "[LightGBM] [Info] Start training from score -2.772589\n",
            "[LightGBM] [Info] Start training from score -2.772589\n",
            "[LightGBM] [Info] Start training from score -2.772589\n",
            "[LightGBM] [Info] Start training from score -2.772589\n",
            "[LightGBM] [Info] Start training from score -2.772589\n",
            "[LightGBM] [Info] Start training from score -2.772589\n",
            "[LightGBM] [Info] Start training from score -2.772589\n",
            "[LightGBM] [Info] Start training from score -2.772589\n",
            "[LightGBM] [Info] Start training from score -2.772589\n",
            "[LightGBM] [Info] Start training from score -2.772589\n",
            "[LightGBM] [Info] Start training from score -2.772589\n",
            "[LightGBM] [Info] Start training from score -2.772589\n",
            "[LightGBM] [Info] Start training from score -2.772589\n",
            "[LightGBM] [Info] Start training from score -2.772589\n"
          ]
        },
        {
          "output_type": "stream",
          "name": "stderr",
          "text": [
            "/usr/local/lib/python3.11/dist-packages/sklearn/utils/deprecation.py:151: FutureWarning: 'force_all_finite' was renamed to 'ensure_all_finite' in 1.6 and will be removed in 1.8.\n",
            "  warnings.warn(\n"
          ]
        },
        {
          "output_type": "stream",
          "name": "stdout",
          "text": [
            "🔹 LightGBM Accuracy: 0.17038366283393047\n",
            "              precision    recall  f1-score   support\n",
            "\n",
            "        ENFJ       0.02      0.09      0.03      1694\n",
            "        ENFP       0.13      0.16      0.14      9193\n",
            "        ENTJ       0.04      0.13      0.07      3732\n",
            "        ENTP       0.20      0.14      0.16     16266\n",
            "        ESFJ       0.00      0.08      0.01       185\n",
            "        ESFP       0.01      0.16      0.02       496\n",
            "        ESTJ       0.01      0.13      0.02       406\n",
            "        ESTP       0.01      0.12      0.03       858\n",
            "        INFJ       0.28      0.18      0.22     21384\n",
            "        INFP       0.23      0.21      0.22     18077\n",
            "        INTJ       0.36      0.17      0.23     37718\n",
            "        INTP       0.41      0.18      0.25     44851\n",
            "        ISFJ       0.01      0.05      0.01       715\n",
            "        ISFP       0.02      0.11      0.03       899\n",
            "        ISTJ       0.03      0.20      0.05      1714\n",
            "        ISTP       0.05      0.09      0.06      4533\n",
            "\n",
            "    accuracy                           0.17    162721\n",
            "   macro avg       0.11      0.14      0.10    162721\n",
            "weighted avg       0.29      0.17      0.21    162721\n",
            "\n",
            " Training time: 465.7500 seconds\n",
            " Prediction time: 33.2982 seconds\n"
          ]
        }
      ]
    }
  ],
  "metadata": {
    "kernelspec": {
      "display_name": "Python 3 (ipykernel)",
      "language": "python",
      "name": "python3"
    },
    "language_info": {
      "codemirror_mode": {
        "name": "ipython",
        "version": 3
      },
      "file_extension": ".py",
      "mimetype": "text/x-python",
      "name": "python",
      "nbconvert_exporter": "python",
      "pygments_lexer": "ipython3",
      "version": "3.12.7"
    },
    "colab": {
      "provenance": []
    }
  },
  "nbformat": 4,
  "nbformat_minor": 5
}