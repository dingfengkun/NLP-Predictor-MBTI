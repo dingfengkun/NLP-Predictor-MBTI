{
  "cells": [
    {
      "cell_type": "code",
      "execution_count": 1,
      "id": "61248eab",
      "metadata": {
        "id": "61248eab"
      },
      "outputs": [],
      "source": [
        "import re\n",
        "\n",
        "def clean_text(text):\n",
        "    text = text.lower()\n",
        "    text = re.sub(r\"http\\S+|www\\S+\", \"\", text)\n",
        "    text = re.sub(r\"<.*?>\", \"\", text)\n",
        "    text = re.sub(r\"[^a-z\\s]\", \"\", text)\n",
        "    text = re.sub(r\"\\s+\", \" \", text).strip()\n",
        "    return text\n"
      ]
    },
    {
      "cell_type": "code",
      "execution_count": 2,
      "id": "d7f7e282",
      "metadata": {
        "id": "d7f7e282"
      },
      "outputs": [],
      "source": [
        "import pandas as pd\n",
        "df = pd.read_csv('MBTI_500.csv')\n",
        "df['clean_posts'] = df['posts'].apply(clean_text)"
      ]
    },
    {
      "cell_type": "code",
      "execution_count": 3,
      "id": "96747fe5",
      "metadata": {
        "id": "96747fe5"
      },
      "outputs": [],
      "source": [
        "# TF-IDF vectorized text\n",
        "from sklearn.feature_extraction.text import TfidfVectorizer\n",
        "X_tfidf = TfidfVectorizer().fit_transform(df['clean_posts'])"
      ]
    },
    {
      "cell_type": "code",
      "execution_count": 4,
      "id": "c24b6e13",
      "metadata": {
        "id": "c24b6e13"
      },
      "outputs": [],
      "source": [
        "# Label encoder\n",
        "from sklearn.preprocessing import LabelEncoder\n",
        "le = LabelEncoder()\n",
        "y = le.fit_transform(df['type'])"
      ]
    },
    {
      "cell_type": "code",
      "execution_count": 5,
      "id": "fac0e920",
      "metadata": {
        "id": "fac0e920"
      },
      "outputs": [],
      "source": [
        "#  Divide dataset\n",
        "from sklearn.model_selection import train_test_split\n",
        "\n",
        "X_train, X_val, y_train, y_val = train_test_split(X_tfidf, y, test_size=0.2, random_state=42)\n"
      ]
    },
    {
      "cell_type": "code",
      "execution_count": 6,
      "id": "26cab536",
      "metadata": {
        "colab": {
          "base_uri": "https://localhost:8080/"
        },
        "id": "26cab536",
        "outputId": "4850bab9-cc29-4566-819f-92471c48f2cb"
      },
      "outputs": [
        {
          "output_type": "stream",
          "name": "stdout",
          "text": [
            "Logistic Regression Accuracy: 0.8297822192891486\n",
            "              precision    recall  f1-score   support\n",
            "\n",
            "        ENFJ       0.68      0.78      0.73       319\n",
            "        ENFP       0.76      0.83      0.80      1249\n",
            "        ENTJ       0.75      0.88      0.81       577\n",
            "        ENTP       0.84      0.83      0.84      2324\n",
            "        ESFJ       0.59      0.70      0.64        33\n",
            "        ESFP       0.63      0.69      0.66        75\n",
            "        ESTJ       0.83      0.89      0.86       105\n",
            "        ESTP       0.83      0.93      0.88       398\n",
            "        INFJ       0.85      0.81      0.83      2954\n",
            "        INFP       0.80      0.82      0.81      2391\n",
            "        INTJ       0.87      0.83      0.85      4531\n",
            "        INTP       0.89      0.83      0.86      5033\n",
            "        ISFJ       0.55      0.81      0.66       132\n",
            "        ISFP       0.53      0.78      0.63       161\n",
            "        ISTJ       0.57      0.84      0.68       253\n",
            "        ISTP       0.79      0.87      0.83       679\n",
            "\n",
            "    accuracy                           0.83     21214\n",
            "   macro avg       0.74      0.82      0.77     21214\n",
            "weighted avg       0.84      0.83      0.83     21214\n",
            "\n",
            "LR Training time: 182.4280 seconds\n",
            "LR Prediction time: 0.1457 seconds\n"
          ]
        }
      ],
      "source": [
        "import time\n",
        "from sklearn.linear_model import LogisticRegression\n",
        "from sklearn.ensemble import RandomForestClassifier\n",
        "from sklearn.metrics import classification_report, accuracy_score\n",
        "\n",
        "# Logistic Regression\n",
        "start_train = time.time()\n",
        "lr = LogisticRegression(max_iter=1000, class_weight='balanced')\n",
        "lr.fit(X_train, y_train)\n",
        "end_train = time.time()\n",
        "train_time_lr = end_train - start_train\n",
        "\n",
        "start_pred = time.time()\n",
        "y_pred_lr = lr.predict(X_val)\n",
        "end_pred = time.time()\n",
        "pred_time_lr = end_pred - start_pred\n",
        "\n",
        "# Print results\n",
        "print(\"Logistic Regression Accuracy:\", accuracy_score(y_val, y_pred_lr))\n",
        "print(classification_report(y_val, y_pred_lr, target_names=le.classes_))\n",
        "print(f\"LR Training time: {train_time_lr:.4f} seconds\")\n",
        "print(f\"LR Prediction time: {pred_time_lr:.4f} seconds\")"
      ]
    },
    {
      "cell_type": "code",
      "source": [
        "import time\n",
        "\n",
        "# Random Forest\n",
        "rf = RandomForestClassifier(n_estimators=100, class_weight='balanced', random_state=42)\n",
        "\n",
        "# Record training time\n",
        "start_train = time.time()\n",
        "rf.fit(X_train, y_train)\n",
        "end_train = time.time()\n",
        "train_time_rf = end_train - start_train\n",
        "\n",
        "# Record Predict time\n",
        "start_pred = time.time()\n",
        "y_pred_rf = rf.predict(X_val)\n",
        "end_pred = time.time()\n",
        "pred_time_rf = end_pred - start_pred\n",
        "\n",
        "# Result and running time\n",
        "print(\"Random Forest Accuracy:\", accuracy_score(y_val, y_pred_rf))\n",
        "print(classification_report(y_val, y_pred_rf, target_names=le.classes_))\n",
        "print(f\"RF Training time: {train_time_rf:.4f} seconds\")\n",
        "print(f\"RF Prediction time: {pred_time_rf:.4f} seconds\")"
      ],
      "metadata": {
        "colab": {
          "base_uri": "https://localhost:8080/"
        },
        "id": "6WOsIvw54Fa-",
        "outputId": "b8f6ead7-8f61-47e3-d9d7-eedf8fd8fa9f"
      },
      "id": "6WOsIvw54Fa-",
      "execution_count": 10,
      "outputs": [
        {
          "output_type": "stream",
          "name": "stdout",
          "text": [
            "Random Forest Accuracy: 0.5231450928632035\n",
            "              precision    recall  f1-score   support\n",
            "\n",
            "        ENFJ       0.00      0.00      0.00       319\n",
            "        ENFP       0.85      0.10      0.18      1249\n",
            "        ENTJ       1.00      0.16      0.27       577\n",
            "        ENTP       0.78      0.23      0.35      2324\n",
            "        ESFJ       0.00      0.00      0.00        33\n",
            "        ESFP       0.00      0.00      0.00        75\n",
            "        ESTJ       0.92      0.67      0.77       105\n",
            "        ESTP       0.94      0.68      0.79       398\n",
            "        INFJ       0.57      0.55      0.56      2954\n",
            "        INFP       0.74      0.33      0.46      2391\n",
            "        INTJ       0.52      0.70      0.60      4531\n",
            "        INTP       0.44      0.87      0.59      5033\n",
            "        ISFJ       0.00      0.00      0.00       132\n",
            "        ISFP       0.00      0.00      0.00       161\n",
            "        ISTJ       0.00      0.00      0.00       253\n",
            "        ISTP       1.00      0.02      0.03       679\n",
            "\n",
            "    accuracy                           0.52     21214\n",
            "   macro avg       0.49      0.27      0.29     21214\n",
            "weighted avg       0.60      0.52      0.47     21214\n",
            "\n",
            "RF Training time: 1676.4179 seconds\n",
            "RF Prediction time: 7.2376 seconds\n"
          ]
        },
        {
          "output_type": "stream",
          "name": "stderr",
          "text": [
            "/usr/local/lib/python3.11/dist-packages/sklearn/metrics/_classification.py:1565: UndefinedMetricWarning: Precision is ill-defined and being set to 0.0 in labels with no predicted samples. Use `zero_division` parameter to control this behavior.\n",
            "  _warn_prf(average, modifier, f\"{metric.capitalize()} is\", len(result))\n",
            "/usr/local/lib/python3.11/dist-packages/sklearn/metrics/_classification.py:1565: UndefinedMetricWarning: Precision is ill-defined and being set to 0.0 in labels with no predicted samples. Use `zero_division` parameter to control this behavior.\n",
            "  _warn_prf(average, modifier, f\"{metric.capitalize()} is\", len(result))\n",
            "/usr/local/lib/python3.11/dist-packages/sklearn/metrics/_classification.py:1565: UndefinedMetricWarning: Precision is ill-defined and being set to 0.0 in labels with no predicted samples. Use `zero_division` parameter to control this behavior.\n",
            "  _warn_prf(average, modifier, f\"{metric.capitalize()} is\", len(result))\n"
          ]
        }
      ]
    }
  ],
  "metadata": {
    "kernelspec": {
      "display_name": "Python 3 (ipykernel)",
      "language": "python",
      "name": "python3"
    },
    "language_info": {
      "codemirror_mode": {
        "name": "ipython",
        "version": 3
      },
      "file_extension": ".py",
      "mimetype": "text/x-python",
      "name": "python",
      "nbconvert_exporter": "python",
      "pygments_lexer": "ipython3",
      "version": "3.12.7"
    },
    "colab": {
      "provenance": []
    }
  },
  "nbformat": 4,
  "nbformat_minor": 5
}