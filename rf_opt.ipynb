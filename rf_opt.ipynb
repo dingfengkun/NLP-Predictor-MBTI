{
  "cells": [
    {
      "cell_type": "code",
      "execution_count": 1,
      "id": "cff70bcf-17d0-4a34-b48c-b7d39ae235b9",
      "metadata": {
        "colab": {
          "base_uri": "https://localhost:8080/"
        },
        "id": "cff70bcf-17d0-4a34-b48c-b7d39ae235b9",
        "outputId": "0d8d33ae-2cae-40ea-9fa4-facd5a35854c"
      },
      "outputs": [
        {
          "output_type": "stream",
          "name": "stdout",
          "text": [
            "Requirement already satisfied: lightgbm in /usr/local/lib/python3.11/dist-packages (4.5.0)\n",
            "Requirement already satisfied: numpy>=1.17.0 in /usr/local/lib/python3.11/dist-packages (from lightgbm) (2.0.2)\n",
            "Requirement already satisfied: scipy in /usr/local/lib/python3.11/dist-packages (from lightgbm) (1.14.1)\n"
          ]
        }
      ],
      "source": [
        "!pip install lightgbm"
      ]
    },
    {
      "cell_type": "code",
      "source": [
        "import re\n",
        "import pandas as pd\n",
        "import numpy as np\n",
        "from sklearn.feature_extraction.text import TfidfVectorizer\n",
        "from sklearn.preprocessing import LabelEncoder\n",
        "from sklearn.model_selection import train_test_split\n",
        "from sklearn.linear_model import LogisticRegression\n",
        "from sklearn.metrics import classification_report, accuracy_score\n",
        "from lightgbm import LGBMClassifier"
      ],
      "metadata": {
        "id": "9VvhYq8ezlWc"
      },
      "id": "9VvhYq8ezlWc",
      "execution_count": 6,
      "outputs": []
    },
    {
      "cell_type": "code",
      "source": [
        "def clean_text(text):\n",
        "    text = text.lower()\n",
        "    text = re.sub(r\"http\\S+|www\\S+\", \"\", text)\n",
        "    text = re.sub(r\"<.*?>\", \"\", text)\n",
        "    text = re.sub(r\"[^a-z\\s]\", \"\", text)\n",
        "    text = re.sub(r\"\\s+\", \" \", text).strip()\n",
        "    return text\n"
      ],
      "metadata": {
        "id": "8QucWfmGzld2"
      },
      "id": "8QucWfmGzld2",
      "execution_count": 7,
      "outputs": []
    },
    {
      "cell_type": "code",
      "source": [
        "df = pd.read_csv('MBTI_500.csv')\n",
        "df['clean_posts'] = df['posts'].apply(clean_text)"
      ],
      "metadata": {
        "id": "GLavViQszlhW"
      },
      "id": "GLavViQszlhW",
      "execution_count": 8,
      "outputs": []
    },
    {
      "cell_type": "code",
      "source": [
        "# TF-IDF vectorized text\n",
        "vectorizer = TfidfVectorizer(max_features=1000)  # 限制维度以加快训练\n",
        "X_tfidf = vectorizer.fit_transform(df['clean_posts'])"
      ],
      "metadata": {
        "id": "EIcMYVWZzljh"
      },
      "id": "EIcMYVWZzljh",
      "execution_count": 9,
      "outputs": []
    },
    {
      "cell_type": "code",
      "source": [
        "# Label encoder\n",
        "le = LabelEncoder()\n",
        "y = le.fit_transform(df['type'])"
      ],
      "metadata": {
        "id": "Va8l48l01xKg"
      },
      "id": "Va8l48l01xKg",
      "execution_count": 10,
      "outputs": []
    },
    {
      "cell_type": "code",
      "source": [
        "# Divide the dataset\n",
        "X_train, X_val, y_train, y_val = train_test_split(X_tfidf, y, test_size=0.2, random_state=42)"
      ],
      "metadata": {
        "id": "ep09_NBC1xM9"
      },
      "id": "ep09_NBC1xM9",
      "execution_count": 11,
      "outputs": []
    },
    {
      "cell_type": "code",
      "source": [
        "# Logistic Regression as baseline model\n",
        "lr = LogisticRegression(max_iter=1000, class_weight='balanced')\n",
        "lr.fit(X_train, y_train)\n",
        "y_pred_lr = lr.predict(X_val)\n",
        "\n",
        "print(\"🔹 Logistic Regression Accuracy:\", accuracy_score(y_val, y_pred_lr))\n",
        "print(classification_report(y_val, y_pred_lr, target_names=le.classes_))"
      ],
      "metadata": {
        "colab": {
          "base_uri": "https://localhost:8080/"
        },
        "id": "j46QbFKP1zSb",
        "outputId": "f6376594-56bb-4178-9e2b-28c9e6137b7f"
      },
      "id": "j46QbFKP1zSb",
      "execution_count": 12,
      "outputs": [
        {
          "output_type": "stream",
          "name": "stdout",
          "text": [
            "🔹 Logistic Regression Accuracy: 0.7655321957198077\n",
            "              precision    recall  f1-score   support\n",
            "\n",
            "        ENFJ       0.45      0.72      0.55       319\n",
            "        ENFP       0.73      0.80      0.76      1249\n",
            "        ENTJ       0.55      0.79      0.65       577\n",
            "        ENTP       0.80      0.76      0.78      2324\n",
            "        ESFJ       0.24      0.64      0.35        33\n",
            "        ESFP       0.31      0.63      0.42        75\n",
            "        ESTJ       0.37      0.74      0.49       105\n",
            "        ESTP       0.65      0.87      0.74       398\n",
            "        INFJ       0.82      0.74      0.78      2954\n",
            "        INFP       0.79      0.76      0.77      2391\n",
            "        INTJ       0.86      0.76      0.81      4531\n",
            "        INTP       0.88      0.77      0.82      5033\n",
            "        ISFJ       0.38      0.80      0.51       132\n",
            "        ISFP       0.37      0.75      0.49       161\n",
            "        ISTJ       0.39      0.79      0.52       253\n",
            "        ISTP       0.64      0.79      0.71       679\n",
            "\n",
            "    accuracy                           0.77     21214\n",
            "   macro avg       0.58      0.76      0.64     21214\n",
            "weighted avg       0.80      0.77      0.77     21214\n",
            "\n"
          ]
        }
      ]
    },
    {
      "cell_type": "code",
      "source": [
        "import time\n",
        "\n",
        "# LightGBM replaces Random Forest\n",
        "lgbm = LGBMClassifier(\n",
        "    objective='multiclass',\n",
        "    num_class=16,\n",
        "    learning_rate=0.1,\n",
        "    n_estimators=100,\n",
        "    class_weight='balanced',\n",
        "    random_state=42,\n",
        "    n_jobs=-1\n",
        ")\n",
        "\n",
        "# Record training time\n",
        "start_train = time.time()\n",
        "lgbm.fit(X_train, y_train)\n",
        "end_train = time.time()\n",
        "train_time = end_train - start_train\n",
        "\n",
        "# Record Predict time\n",
        "start_pred = time.time()\n",
        "y_pred_lgbm = lgbm.predict(X_val)\n",
        "end_pred = time.time()\n",
        "pred_time = end_pred - start_pred\n",
        "\n",
        "# Result and training time\n",
        "print(\"🔹 LightGBM Accuracy:\", accuracy_score(y_val, y_pred_lgbm))\n",
        "print(classification_report(y_val, y_pred_lgbm, target_names=le.classes_))\n",
        "print(f\"🕒 Training time: {train_time:.4f} seconds\")\n",
        "print(f\"🕒 Prediction time: {pred_time:.4f} seconds\")\n"
      ],
      "metadata": {
        "colab": {
          "base_uri": "https://localhost:8080/"
        },
        "id": "HZgJGksy1-JZ",
        "outputId": "d337bbb6-3f05-4228-eb52-07d2fc8a23c5"
      },
      "id": "HZgJGksy1-JZ",
      "execution_count": 14,
      "outputs": [
        {
          "output_type": "stream",
          "name": "stderr",
          "text": [
            "/usr/local/lib/python3.11/dist-packages/sklearn/utils/deprecation.py:151: FutureWarning: 'force_all_finite' was renamed to 'ensure_all_finite' in 1.6 and will be removed in 1.8.\n",
            "  warnings.warn(\n"
          ]
        },
        {
          "output_type": "stream",
          "name": "stdout",
          "text": [
            "[LightGBM] [Info] Auto-choosing col-wise multi-threading, the overhead of testing was 3.968187 seconds.\n",
            "You can set `force_col_wise=true` to remove the overhead.\n",
            "[LightGBM] [Info] Total Bins 255000\n",
            "[LightGBM] [Info] Number of data points in the train set: 84853, number of used features: 1000\n",
            "[LightGBM] [Info] Start training from score -2.772589\n",
            "[LightGBM] [Info] Start training from score -2.772589\n",
            "[LightGBM] [Info] Start training from score -2.772589\n",
            "[LightGBM] [Info] Start training from score -2.772589\n",
            "[LightGBM] [Info] Start training from score -2.772589\n",
            "[LightGBM] [Info] Start training from score -2.772589\n",
            "[LightGBM] [Info] Start training from score -2.772589\n",
            "[LightGBM] [Info] Start training from score -2.772589\n",
            "[LightGBM] [Info] Start training from score -2.772589\n",
            "[LightGBM] [Info] Start training from score -2.772589\n",
            "[LightGBM] [Info] Start training from score -2.772589\n",
            "[LightGBM] [Info] Start training from score -2.772589\n",
            "[LightGBM] [Info] Start training from score -2.772589\n",
            "[LightGBM] [Info] Start training from score -2.772589\n",
            "[LightGBM] [Info] Start training from score -2.772589\n",
            "[LightGBM] [Info] Start training from score -2.772589\n"
          ]
        },
        {
          "output_type": "stream",
          "name": "stderr",
          "text": [
            "/usr/local/lib/python3.11/dist-packages/sklearn/utils/deprecation.py:151: FutureWarning: 'force_all_finite' was renamed to 'ensure_all_finite' in 1.6 and will be removed in 1.8.\n",
            "  warnings.warn(\n"
          ]
        },
        {
          "output_type": "stream",
          "name": "stdout",
          "text": [
            "🔹 LightGBM Accuracy: 0.7710945601960969\n",
            "              precision    recall  f1-score   support\n",
            "\n",
            "        ENFJ       0.56      0.61      0.58       319\n",
            "        ENFP       0.69      0.80      0.74      1249\n",
            "        ENTJ       0.57      0.75      0.64       577\n",
            "        ENTP       0.74      0.76      0.75      2324\n",
            "        ESFJ       0.88      0.45      0.60        33\n",
            "        ESFP       0.70      0.43      0.53        75\n",
            "        ESTJ       0.80      0.53      0.64       105\n",
            "        ESTP       0.73      0.78      0.75       398\n",
            "        INFJ       0.79      0.76      0.78      2954\n",
            "        INFP       0.75      0.77      0.76      2391\n",
            "        INTJ       0.83      0.79      0.81      4531\n",
            "        INTP       0.86      0.79      0.82      5033\n",
            "        ISFJ       0.59      0.58      0.59       132\n",
            "        ISFP       0.58      0.67      0.62       161\n",
            "        ISTJ       0.65      0.70      0.68       253\n",
            "        ISTP       0.64      0.75      0.69       679\n",
            "\n",
            "    accuracy                           0.77     21214\n",
            "   macro avg       0.71      0.68      0.69     21214\n",
            "weighted avg       0.78      0.77      0.77     21214\n",
            "\n",
            "🕒 Training time: 620.2222 seconds\n",
            "🕒 Prediction time: 4.5395 seconds\n"
          ]
        }
      ]
    }
  ],
  "metadata": {
    "kernelspec": {
      "display_name": "Python 3 (ipykernel)",
      "language": "python",
      "name": "python3"
    },
    "language_info": {
      "codemirror_mode": {
        "name": "ipython",
        "version": 3
      },
      "file_extension": ".py",
      "mimetype": "text/x-python",
      "name": "python",
      "nbconvert_exporter": "python",
      "pygments_lexer": "ipython3",
      "version": "3.12.7"
    },
    "colab": {
      "provenance": []
    }
  },
  "nbformat": 4,
  "nbformat_minor": 5
}