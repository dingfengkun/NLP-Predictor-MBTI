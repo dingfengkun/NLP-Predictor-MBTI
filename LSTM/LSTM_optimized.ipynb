{
  "cells": [
    {
      "cell_type": "code",
      "execution_count": 1,
      "metadata": {
        "id": "QPTIpmLElm9t"
      },
      "outputs": [],
      "source": [
        "import torch\n",
        "import torch.nn as nn\n",
        "import torch.optim as optim\n",
        "from torch.utils.data import Dataset, DataLoader\n",
        "from sklearn.preprocessing import LabelEncoder\n",
        "from sklearn.model_selection import train_test_split\n",
        "import pandas as pd\n",
        "import numpy as np\n",
        "from tqdm import tqdm\n",
        "\n",
        "# Data preprocessing class\n",
        "class MBTIDataset(Dataset):\n",
        "    def __init__(self, texts, labels, tokenizer, max_len):\n",
        "        self.texts = texts\n",
        "        self.labels = labels\n",
        "        self.tokenizer = tokenizer\n",
        "        self.max_len = max_len\n",
        "    \n",
        "    def __len__(self):\n",
        "        return len(self.texts)\n",
        "    \n",
        "    def __getitem__(self, idx):\n",
        "        text = str(self.texts[idx])\n",
        "        label = self.labels[idx]\n",
        "        \n",
        "        # Text serialization\n",
        "        sequence = self.tokenizer.texts_to_sequences([text])\n",
        "        padded_sequence = pad_sequences(sequence, maxlen=self.max_len, padding='post')[0]\n",
        "        \n",
        "        return {\n",
        "            'text': torch.tensor(padded_sequence, dtype=torch.long),\n",
        "            'label': torch.tensor(label, dtype=torch.long)\n",
        "        }\n",
        "\n",
        "# LSTM model architecture\n",
        "class MBTILSTM(nn.Module):\n",
        "    def __init__(self, vocab_size, embedding_dim, hidden_dim, output_dim, n_layers,\n",
        "                 bidirectional, dropout):\n",
        "        super().__init__()\n",
        "        \n",
        "        self.embedding = nn.Embedding(vocab_size, embedding_dim)\n",
        "        \n",
        "        self.lstm = nn.LSTM(embedding_dim,\n",
        "                           hidden_dim,\n",
        "                           num_layers=n_layers,\n",
        "                           bidirectional=bidirectional,\n",
        "                           dropout=dropout,\n",
        "                           batch_first=True)\n",
        "        \n",
        "        lstm_output_dim = hidden_dim * 2 if bidirectional else hidden_dim\n",
        "        \n",
        "        self.fc = nn.Sequential(\n",
        "            nn.Dropout(dropout),\n",
        "            nn.Linear(lstm_output_dim, lstm_output_dim//2),\n",
        "            nn.ReLU(),\n",
        "            nn.Dropout(dropout),\n",
        "            nn.Linear(lstm_output_dim//2, output_dim)\n",
        "        )\n",
        "    \n",
        "    def forward(self, text):\n",
        "        embedded = self.embedding(text)\n",
        "        \n",
        "        # LSTM layer\n",
        "        output, (hidden, cell) = self.lstm(embedded)\n",
        "        \n",
        "        # Process bidirectional output\n",
        "        if self.lstm.bidirectional:\n",
        "            hidden = torch.cat((hidden[-2], hidden[-1]), dim=1)\n",
        "        else:\n",
        "            hidden = hidden[-1]\n",
        "        \n",
        "        return self.fc(hidden)"
      ]
    },
    {
      "cell_type": "code",
      "execution_count": 2,
      "metadata": {
        "id": "fSox_8n0lm9v"
      },
      "outputs": [],
      "source": [
        "# Hyperparameters\n",
        "MAX_WORDS = 10000          # Maximum vocabulary size\n",
        "MAX_LEN = 500              # Maximum sequence length\n",
        "EMBEDDING_DIM = 128        # Dimension of word embeddings\n",
        "HIDDEN_DIM = 256           # Hidden dimension for LSTM\n",
        "OUTPUT_DIM = 16            # 16 MBTI personality types\n",
        "N_LAYERS = 2               # Number of LSTM layers\n",
        "BIDIRECTIONAL = True       # Whether to use bidirectional LSTM\n",
        "DROPOUT = 0.2              # Dropout rate for regularization\n",
        "BATCH_SIZE = 64            # Training batch size\n",
        "EPOCHS = 15                # Number of training epochs\n",
        "LEARNING_RATE = 0.001      # Learning rate for optimizer\n",
        "FILE_PATH = \"MBTI 500.csv\" # CSV file path"
      ]
    },
    {
      "cell_type": "code",
      "execution_count": 5,
      "metadata": {
        "id": "qLkmt2Kklm9v"
      },
      "outputs": [],
      "source": [
        "import pickle\n",
        "from tensorflow.keras.preprocessing.text import Tokenizer\n",
        "from tensorflow.keras.preprocessing.sequence import pad_sequences\n",
        "import pandas as pd\n",
        "from sklearn.preprocessing import LabelEncoder\n",
        "from sklearn.model_selection import train_test_split\n",
        "from torch.utils.data import DataLoader\n",
        "import os\n",
        "# Data preparation\n",
        "# Load the dataset\n",
        "df = pd.read_csv(\"MBTI 500.csv\")\n",
        "\n",
        "# Initialize LabelEncoder with MBTI types\n",
        "label_encoder = LabelEncoder()\n",
        "label_encoder.classes_ = [\n",
        "    'INTP', 'ENTP', 'INFJ', 'ENFJ', 'INTJ', 'ENTJ', 'INFP', 'ENFP',\n",
        "    'ISTJ', 'ESTJ', 'ISFJ', 'ESFJ', 'ISTP', 'ESTP', 'ISFP', 'ESFP'\n",
        "]\n",
        "\n",
        "# Extract texts and encoded labels\n",
        "texts = df['posts'].values\n",
        "labels = label_encoder.fit_transform(df['type'].values)  # More efficient by using transform directly\n",
        "\n",
        "# Create LSTM_parameter directory if it doesn't exist\n",
        "os.makedirs(\"LSTM_parameter\", exist_ok=True)\n",
        "\n",
        "# Save LabelEncoder in LSTM_parameter folder\n",
        "with open(os.path.join(\"LSTM_parameter\", \"label_encoder.pkl\"), \"wb\") as f:\n",
        "    pickle.dump(label_encoder, f)\n",
        "\n",
        "# Build and train Tokenizer\n",
        "tokenizer = Tokenizer(num_words=MAX_WORDS, oov_token=\"<OOV>\")\n",
        "tokenizer.fit_on_texts(texts)\n",
        "\n",
        "# Save Tokenizer in LSTM_parameter folder\n",
        "with open(os.path.join(\"LSTM_parameter\", \"tokenizer.pkl\"), \"wb\") as f:\n",
        "    pickle.dump(tokenizer, f)\n",
        "\n",
        "# Split dataset into train and validation sets\n",
        "X_train, X_val, y_train, y_val = train_test_split(\n",
        "    texts, labels, test_size=0.2, random_state=42\n",
        ")\n",
        "\n",
        "# Create DataLoaders\n",
        "train_dataset = MBTIDataset(X_train, y_train, tokenizer, MAX_LEN)\n",
        "val_dataset = MBTIDataset(X_val, y_val, tokenizer, MAX_LEN)\n",
        "\n",
        "train_loader = DataLoader(train_dataset, batch_size=BATCH_SIZE, shuffle=True)\n",
        "val_loader = DataLoader(val_dataset, batch_size=BATCH_SIZE)\n",
        "\n",
        "# Prepare test dataset (using full dataset)\n",
        "X_test, y_test = texts, labels\n",
        "test_dataset = MBTIDataset(X_test, y_test, tokenizer, MAX_LEN)\n",
        "test_loader = DataLoader(test_dataset, batch_size=BATCH_SIZE, shuffle=True)"
      ]
    },
    {
      "cell_type": "code",
      "execution_count": 6,
      "metadata": {
        "colab": {
          "base_uri": "https://localhost:8080/"
        },
        "id": "47aUNYTLlm9v",
        "outputId": "946f6d2d-5665-43b2-fe93-057a345b39f4"
      },
      "outputs": [
        {
          "name": "stdout",
          "output_type": "stream",
          "text": [
            "Using device: cuda\n"
          ]
        },
        {
          "name": "stderr",
          "output_type": "stream",
          "text": [
            "Epoch 1/15 - Training: 100%|██████████| 1326/1326 [01:37<00:00, 13.57it/s]\n",
            "Epoch 1/15 - Validation: 100%|██████████| 332/332 [00:10<00:00, 30.55it/s]\n"
          ]
        },
        {
          "name": "stdout",
          "output_type": "stream",
          "text": [
            "New best model saved with validation accuracy: 25.51%\n",
            "Epoch 1/15\n",
            "Train Loss: 2.0261 | Train Acc: 24.33%\n",
            "Val Loss: 1.9838 | Val Acc: 25.51%\n",
            "--------------------------------------------------\n"
          ]
        },
        {
          "name": "stderr",
          "output_type": "stream",
          "text": [
            "Epoch 2/15 - Training: 100%|██████████| 1326/1326 [01:41<00:00, 13.02it/s]\n",
            "Epoch 2/15 - Validation: 100%|██████████| 332/332 [00:11<00:00, 27.95it/s]\n"
          ]
        },
        {
          "name": "stdout",
          "output_type": "stream",
          "text": [
            "New best model saved with validation accuracy: 37.34%\n",
            "Epoch 2/15\n",
            "Train Loss: 1.8405 | Train Acc: 31.77%\n",
            "Val Loss: 1.7287 | Val Acc: 37.34%\n",
            "--------------------------------------------------\n"
          ]
        },
        {
          "name": "stderr",
          "output_type": "stream",
          "text": [
            "Epoch 3/15 - Training: 100%|██████████| 1326/1326 [01:43<00:00, 12.81it/s]\n",
            "Epoch 3/15 - Validation: 100%|██████████| 332/332 [00:11<00:00, 28.51it/s]\n"
          ]
        },
        {
          "name": "stdout",
          "output_type": "stream",
          "text": [
            "New best model saved with validation accuracy: 72.75%\n",
            "Epoch 3/15\n",
            "Train Loss: 1.3096 | Train Acc: 55.58%\n",
            "Val Loss: 0.8952 | Val Acc: 72.75%\n",
            "--------------------------------------------------\n"
          ]
        },
        {
          "name": "stderr",
          "output_type": "stream",
          "text": [
            "Epoch 4/15 - Training: 100%|██████████| 1326/1326 [01:41<00:00, 13.05it/s]\n",
            "Epoch 4/15 - Validation: 100%|██████████| 332/332 [00:11<00:00, 29.82it/s]\n"
          ]
        },
        {
          "name": "stdout",
          "output_type": "stream",
          "text": [
            "New best model saved with validation accuracy: 78.34%\n",
            "Epoch 4/15\n",
            "Train Loss: 0.8327 | Train Acc: 75.08%\n",
            "Val Loss: 0.7201 | Val Acc: 78.34%\n",
            "--------------------------------------------------\n"
          ]
        },
        {
          "name": "stderr",
          "output_type": "stream",
          "text": [
            "Epoch 5/15 - Training: 100%|██████████| 1326/1326 [01:34<00:00, 13.96it/s]\n",
            "Epoch 5/15 - Validation: 100%|██████████| 332/332 [00:10<00:00, 30.91it/s]\n"
          ]
        },
        {
          "name": "stdout",
          "output_type": "stream",
          "text": [
            "New best model saved with validation accuracy: 79.99%\n",
            "Epoch 5/15\n",
            "Train Loss: 0.6666 | Train Acc: 80.09%\n",
            "Val Loss: 0.6536 | Val Acc: 79.99%\n",
            "--------------------------------------------------\n"
          ]
        },
        {
          "name": "stderr",
          "output_type": "stream",
          "text": [
            "Epoch 6/15 - Training: 100%|██████████| 1326/1326 [01:35<00:00, 13.96it/s]\n",
            "Epoch 6/15 - Validation: 100%|██████████| 332/332 [00:10<00:00, 30.45it/s]\n"
          ]
        },
        {
          "name": "stdout",
          "output_type": "stream",
          "text": [
            "New best model saved with validation accuracy: 81.76%\n",
            "Epoch 6/15\n",
            "Train Loss: 0.5548 | Train Acc: 83.22%\n",
            "Val Loss: 0.6019 | Val Acc: 81.76%\n",
            "--------------------------------------------------\n"
          ]
        },
        {
          "name": "stderr",
          "output_type": "stream",
          "text": [
            "Epoch 7/15 - Training: 100%|██████████| 1326/1326 [01:35<00:00, 13.91it/s]\n",
            "Epoch 7/15 - Validation: 100%|██████████| 332/332 [00:10<00:00, 30.78it/s]\n"
          ]
        },
        {
          "name": "stdout",
          "output_type": "stream",
          "text": [
            "New best model saved with validation accuracy: 82.56%\n",
            "Epoch 7/15\n",
            "Train Loss: 0.4575 | Train Acc: 86.12%\n",
            "Val Loss: 0.5802 | Val Acc: 82.56%\n",
            "--------------------------------------------------\n"
          ]
        },
        {
          "name": "stderr",
          "output_type": "stream",
          "text": [
            "Epoch 8/15 - Training: 100%|██████████| 1326/1326 [01:36<00:00, 13.79it/s]\n",
            "Epoch 8/15 - Validation: 100%|██████████| 332/332 [00:10<00:00, 30.84it/s]\n"
          ]
        },
        {
          "name": "stdout",
          "output_type": "stream",
          "text": [
            "Epoch 8/15\n",
            "Train Loss: 0.3695 | Train Acc: 88.71%\n",
            "Val Loss: 0.6034 | Val Acc: 82.37%\n",
            "--------------------------------------------------\n"
          ]
        },
        {
          "name": "stderr",
          "output_type": "stream",
          "text": [
            "Epoch 9/15 - Training: 100%|██████████| 1326/1326 [01:35<00:00, 13.92it/s]\n",
            "Epoch 9/15 - Validation: 100%|██████████| 332/332 [00:10<00:00, 30.99it/s]\n"
          ]
        },
        {
          "name": "stdout",
          "output_type": "stream",
          "text": [
            "Epoch 9/15\n",
            "Train Loss: 0.2855 | Train Acc: 91.15%\n",
            "Val Loss: 0.6500 | Val Acc: 82.22%\n",
            "--------------------------------------------------\n"
          ]
        },
        {
          "name": "stderr",
          "output_type": "stream",
          "text": [
            "Epoch 10/15 - Training: 100%|██████████| 1326/1326 [01:35<00:00, 13.89it/s]\n",
            "Epoch 10/15 - Validation: 100%|██████████| 332/332 [00:10<00:00, 31.00it/s]\n"
          ]
        },
        {
          "name": "stdout",
          "output_type": "stream",
          "text": [
            "Epoch 10/15\n",
            "Train Loss: 0.2149 | Train Acc: 93.29%\n",
            "Val Loss: 0.7466 | Val Acc: 82.38%\n",
            "--------------------------------------------------\n"
          ]
        },
        {
          "name": "stderr",
          "output_type": "stream",
          "text": [
            "Epoch 11/15 - Training: 100%|██████████| 1326/1326 [01:35<00:00, 13.82it/s]\n",
            "Epoch 11/15 - Validation: 100%|██████████| 332/332 [00:10<00:00, 30.96it/s]\n"
          ]
        },
        {
          "name": "stdout",
          "output_type": "stream",
          "text": [
            "Epoch 11/15\n",
            "Train Loss: 0.1604 | Train Acc: 94.96%\n",
            "Val Loss: 0.8574 | Val Acc: 82.23%\n",
            "--------------------------------------------------\n"
          ]
        },
        {
          "name": "stderr",
          "output_type": "stream",
          "text": [
            "Epoch 12/15 - Training: 100%|██████████| 1326/1326 [01:34<00:00, 13.96it/s]\n",
            "Epoch 12/15 - Validation: 100%|██████████| 332/332 [00:10<00:00, 30.95it/s]\n"
          ]
        },
        {
          "name": "stdout",
          "output_type": "stream",
          "text": [
            "Epoch 12/15\n",
            "Train Loss: 0.1254 | Train Acc: 96.01%\n",
            "Val Loss: 0.9303 | Val Acc: 81.91%\n",
            "--------------------------------------------------\n"
          ]
        },
        {
          "name": "stderr",
          "output_type": "stream",
          "text": [
            "Epoch 13/15 - Training: 100%|██████████| 1326/1326 [01:35<00:00, 13.85it/s]\n",
            "Epoch 13/15 - Validation: 100%|██████████| 332/332 [00:11<00:00, 29.30it/s]\n"
          ]
        },
        {
          "name": "stdout",
          "output_type": "stream",
          "text": [
            "Epoch 13/15\n",
            "Train Loss: 0.1035 | Train Acc: 96.60%\n",
            "Val Loss: 0.9793 | Val Acc: 81.73%\n",
            "--------------------------------------------------\n"
          ]
        },
        {
          "name": "stderr",
          "output_type": "stream",
          "text": [
            "Epoch 14/15 - Training: 100%|██████████| 1326/1326 [01:37<00:00, 13.66it/s]\n",
            "Epoch 14/15 - Validation: 100%|██████████| 332/332 [00:10<00:00, 30.45it/s]\n"
          ]
        },
        {
          "name": "stdout",
          "output_type": "stream",
          "text": [
            "Epoch 14/15\n",
            "Train Loss: 0.0905 | Train Acc: 97.07%\n",
            "Val Loss: 1.0548 | Val Acc: 82.00%\n",
            "--------------------------------------------------\n"
          ]
        },
        {
          "name": "stderr",
          "output_type": "stream",
          "text": [
            "Epoch 15/15 - Training: 100%|██████████| 1326/1326 [01:35<00:00, 13.90it/s]\n",
            "Epoch 15/15 - Validation: 100%|██████████| 332/332 [00:10<00:00, 31.06it/s]\n"
          ]
        },
        {
          "name": "stdout",
          "output_type": "stream",
          "text": [
            "Epoch 15/15\n",
            "Train Loss: 0.0768 | Train Acc: 97.52%\n",
            "Val Loss: 1.0582 | Val Acc: 81.67%\n",
            "--------------------------------------------------\n",
            "Evaluating on test set...\n"
          ]
        },
        {
          "name": "stderr",
          "output_type": "stream",
          "text": [
            "Testing: 100%|██████████| 332/332 [00:10<00:00, 30.89it/s]"
          ]
        },
        {
          "name": "stdout",
          "output_type": "stream",
          "text": [
            "Final Test Accuracy: 82.56%\n"
          ]
        },
        {
          "name": "stderr",
          "output_type": "stream",
          "text": [
            "\n"
          ]
        }
      ],
      "source": [
        "import torch\n",
        "import os\n",
        "\n",
        "# Initialize model\n",
        "device = torch.device('cuda' if torch.cuda.is_available() else 'cpu')\n",
        "print(f\"Using device: {device}\")\n",
        "\n",
        "# Create model and move to device\n",
        "model = MBTILSTM(MAX_WORDS, EMBEDDING_DIM, HIDDEN_DIM, OUTPUT_DIM, \n",
        "                N_LAYERS, BIDIRECTIONAL, DROPOUT).to(device)\n",
        "\n",
        "# Define optimizer and loss function\n",
        "optimizer = optim.Adam(model.parameters(), lr=LEARNING_RATE)\n",
        "criterion = nn.CrossEntropyLoss()\n",
        "\n",
        "# Create LSTM_parameter directory if it doesn't exist\n",
        "os.makedirs(\"LSTM_parameter\", exist_ok=True)\n",
        "\n",
        "# Training loop\n",
        "best_val_acc = 0\n",
        "for epoch in range(EPOCHS):\n",
        "    # Training phase\n",
        "    model.train()\n",
        "    train_loss, train_acc = 0, 0\n",
        "    \n",
        "    for batch in tqdm(train_loader, desc=f\"Epoch {epoch+1}/{EPOCHS} - Training\"):\n",
        "        texts = batch['text'].to(device)\n",
        "        labels = batch['label'].to(device)\n",
        "        \n",
        "        # Forward pass\n",
        "        optimizer.zero_grad()\n",
        "        outputs = model(texts)\n",
        "        loss = criterion(outputs, labels)\n",
        "        \n",
        "        # Backward pass\n",
        "        loss.backward()\n",
        "        optimizer.step()\n",
        "        \n",
        "        # Accumulate metrics\n",
        "        train_loss += loss.item()\n",
        "        train_acc += (outputs.argmax(1) == labels).sum().item()\n",
        "    \n",
        "    # Validation phase\n",
        "    model.eval()\n",
        "    val_loss, val_acc = 0, 0\n",
        "    \n",
        "    with torch.no_grad():\n",
        "        for batch in tqdm(val_loader, desc=f\"Epoch {epoch+1}/{EPOCHS} - Validation\"):\n",
        "            texts = batch['text'].to(device)\n",
        "            labels = batch['label'].to(device)\n",
        "            \n",
        "            outputs = model(texts)\n",
        "            loss = criterion(outputs, labels)\n",
        "            \n",
        "            val_loss += loss.item()\n",
        "            val_acc += (outputs.argmax(1) == labels).sum().item()\n",
        "    \n",
        "    # Calculate metrics\n",
        "    train_loss /= len(train_loader)\n",
        "    train_acc /= len(train_dataset)\n",
        "    val_loss /= len(val_loader)\n",
        "    val_acc /= len(val_dataset)\n",
        "    \n",
        "    # Save best model\n",
        "    if val_acc > best_val_acc:\n",
        "        best_val_acc = val_acc\n",
        "        torch.save(model.state_dict(), os.path.join(\"LSTM_parameter\", \"best_model.pth\"))\n",
        "        print(f\"New best model saved with validation accuracy: {val_acc*100:.2f}%\")\n",
        "    \n",
        "    print(f\"Epoch {epoch+1}/{EPOCHS}\")\n",
        "    print(f\"Train Loss: {train_loss:.4f} | Train Acc: {train_acc*100:.2f}%\")\n",
        "    print(f\"Val Loss: {val_loss:.4f} | Val Acc: {val_acc*100:.2f}%\")\n",
        "    print(\"-\" * 50)\n",
        "\n",
        "# Test model\n",
        "print(\"Evaluating on test set...\")\n",
        "model.load_state_dict(torch.load(os.path.join(\"LSTM_parameter\", \"best_model.pth\")))\n",
        "model.eval()\n",
        "test_acc = 0\n",
        "\n",
        "with torch.no_grad():\n",
        "    for batch in tqdm(val_loader, desc=\"Testing\"):\n",
        "        texts = batch['text'].to(device)\n",
        "        labels = batch['label'].to(device)\n",
        "        \n",
        "        outputs = model(texts)\n",
        "        test_acc += (outputs.argmax(1) == labels).sum().item()\n",
        "\n",
        "test_acc /= len(val_dataset)\n",
        "print(f'Final Test Accuracy: {test_acc*100:.2f}%')"
      ]
    },
    {
      "cell_type": "code",
      "execution_count": 7,
      "metadata": {
        "colab": {
          "base_uri": "https://localhost:8080/"
        },
        "id": "3xPn4DEmoaZG",
        "outputId": "a2988c74-4b7e-4117-9d10-a9c0350080f5"
      },
      "outputs": [
        {
          "name": "stdout",
          "output_type": "stream",
          "text": [
            "Running model evaluation...\n"
          ]
        },
        {
          "name": "stderr",
          "output_type": "stream",
          "text": [
            "Collecting predictions: 100%|██████████| 332/332 [00:11<00:00, 30.18it/s]\n"
          ]
        },
        {
          "name": "stdout",
          "output_type": "stream",
          "text": [
            "\n",
            "Classification Report:\n",
            "              precision    recall  f1-score   support\n",
            "\n",
            "        ENFJ       0.73      0.61      0.66       319\n",
            "        ENFP       0.83      0.80      0.81      1249\n",
            "        ENTJ       0.82      0.84      0.83       577\n",
            "        ENTP       0.83      0.80      0.81      2324\n",
            "        ESFJ       0.50      0.09      0.15        33\n",
            "        ESFP       0.82      0.53      0.65        75\n",
            "        ESTJ       0.88      0.78      0.83       105\n",
            "        ESTP       0.89      0.86      0.88       398\n",
            "        INFJ       0.82      0.83      0.82      2954\n",
            "        INFP       0.79      0.84      0.82      2391\n",
            "        INTJ       0.83      0.86      0.84      4531\n",
            "        INTP       0.86      0.86      0.86      5033\n",
            "        ISFJ       0.78      0.55      0.65       132\n",
            "        ISFP       0.72      0.62      0.67       161\n",
            "        ISTJ       0.75      0.55      0.63       253\n",
            "        ISTP       0.77      0.77      0.77       679\n",
            "\n",
            "    accuracy                           0.83     21214\n",
            "   macro avg       0.79      0.70      0.73     21214\n",
            "weighted avg       0.82      0.83      0.82     21214\n",
            "\n",
            "Macro F1 Score: 0.7304\n",
            "Weighted F1 Score: 0.8242\n",
            "Confusion matrix saved to LSTM_parameter/evaluation/confusion_matrix.png\n",
            "Evaluation metrics saved to LSTM_parameter/evaluation/metrics.txt\n"
          ]
        },
        {
          "data": {
            "image/png": "[encoded data removed]",
            "text/plain": [
              "<Figure size 1200x1000 with 2 Axes>"
            ]
          },
          "metadata": {},
          "output_type": "display_data"
        }
      ],
      "source": [
        "from sklearn.metrics import classification_report, confusion_matrix, f1_score\n",
        "import matplotlib.pyplot as plt\n",
        "import seaborn as sns\n",
        "\n",
        "# Collect predictions and true labels\n",
        "all_preds = []\n",
        "all_labels = []\n",
        "\n",
        "# Load the best model\n",
        "model.load_state_dict(torch.load(os.path.join(\"LSTM_parameter\", \"best_model.pth\")))\n",
        "model.eval()\n",
        "\n",
        "print(\"Running model evaluation...\")\n",
        "with torch.no_grad():\n",
        "    for batch in tqdm(val_loader, desc=\"Collecting predictions\"):\n",
        "        texts = batch['text'].to(device)\n",
        "        labels = batch['label'].to(device)\n",
        "        \n",
        "        outputs = model(texts)\n",
        "        preds = outputs.argmax(dim=1)\n",
        "        \n",
        "        all_preds.extend(preds.cpu().numpy())\n",
        "        all_labels.extend(labels.cpu().numpy())\n",
        "\n",
        "# Convert to numpy arrays\n",
        "all_preds = np.array(all_preds)\n",
        "all_labels = np.array(all_labels)\n",
        "\n",
        "# Get only the labels that actually appear in the data\n",
        "unique_labels = np.unique(np.concatenate((all_preds, all_labels)))\n",
        "target_names = label_encoder.inverse_transform(unique_labels)\n",
        "\n",
        "# Print classification report\n",
        "print(\"\\nClassification Report:\")\n",
        "print(classification_report(all_labels, all_preds, labels=unique_labels, \n",
        "                           target_names=target_names, zero_division=0))\n",
        "\n",
        "# Calculate F1 scores\n",
        "macro_f1 = f1_score(all_labels, all_preds, average='macro')\n",
        "weighted_f1 = f1_score(all_labels, all_preds, average='weighted')\n",
        "\n",
        "print(f\"Macro F1 Score: {macro_f1:.4f}\")\n",
        "print(f\"Weighted F1 Score: {weighted_f1:.4f}\")\n",
        "\n",
        "# Create and save confusion matrix visualization\n",
        "cm = confusion_matrix(all_labels, all_preds, labels=unique_labels)\n",
        "plt.figure(figsize=(12, 10))\n",
        "sns.heatmap(cm, annot=True, fmt='d', cmap='Blues', \n",
        "            xticklabels=target_names, yticklabels=target_names)\n",
        "plt.xlabel('Predicted')\n",
        "plt.ylabel('True')\n",
        "plt.title('Confusion Matrix')\n",
        "plt.tight_layout()\n",
        "\n",
        "# Save the confusion matrix visualization\n",
        "os.makedirs(\"LSTM_parameter/evaluation\", exist_ok=True)\n",
        "plt.savefig(os.path.join(\"LSTM_parameter/evaluation\", \"confusion_matrix.png\"))\n",
        "print(\"Confusion matrix saved to LSTM_parameter/evaluation/confusion_matrix.png\")\n",
        "\n",
        "# Save evaluation metrics\n",
        "with open(os.path.join(\"LSTM_parameter/evaluation\", \"metrics.txt\"), 'w') as f:\n",
        "    f.write(f\"Macro F1 Score: {macro_f1:.4f}\\n\")\n",
        "    f.write(f\"Weighted F1 Score: {weighted_f1:.4f}\\n\")\n",
        "    f.write(\"\\nClassification Report:\\n\")\n",
        "    f.write(classification_report(all_labels, all_preds, labels=unique_labels, \n",
        "                               target_names=target_names, zero_division=0))\n",
        "    \n",
        "print(\"Evaluation metrics saved to LSTM_parameter/evaluation/metrics.txt\")"
      ]
    },
    {
      "cell_type": "code",
      "execution_count": null,
      "metadata": {
        "colab": {
          "base_uri": "https://localhost:8080/",
          "height": 149,
          "referenced_widgets": [
            "c91a332739054aee8b7ec7b5b0a2c521",
            "aed32432f25141baa9f865179200b7e9",
            "b10f5bfd524b4a6699fdbdcfe2af327b",
            "d972607e2b8d41e8b40cfe74fc076c46",
            "f8fc4194bac5437b8fc45900e8a1228b",
            "f7e716f6b4da471f846ead1fdd21432d",
            "1b1d1cacc2f9448d9df525f81dd5a1c9",
            "db906b6c159f4ae0b1a774b4165c954b",
            "97bfd54dc30c49e98ff8720e0f9e4734",
            "7a1215dfcf814f6091af7480f03d579b",
            "3647501c18b14822ad87b7eeeafa7a23"
          ]
        },
        "id": "XNEXDmknlm9v",
        "outputId": "74371d7f-df00-463c-ce57-17d055a84850"
      },
      "outputs": [
        {
          "name": "stdout",
          "output_type": "stream",
          "text": [
            "Using device: cuda\n",
            "Model loaded successfully.\n",
            "Tokenizer and LabelEncoder loaded successfully.\n",
            "MBTI Personality Type Predictor\n",
            "Enter some text to predict the MBTI personality type.\n"
          ]
        },
        {
          "data": {
            "application/vnd.jupyter.widget-view+json": {
              "model_id": "81df6f800b39497fb40ff327e000e031",
              "version_major": 2,
              "version_minor": 0
            },
            "text/plain": [
              "Textarea(value='', description='Input:', layout=Layout(height='150px', width='500px'), placeholder='Enter text…"
            ]
          },
          "metadata": {},
          "output_type": "display_data"
        },
        {
          "data": {
            "application/vnd.jupyter.widget-view+json": {
              "model_id": "8f14b9383b854208b78a7ba4d24e87a5",
              "version_major": 2,
              "version_minor": 0
            },
            "text/plain": [
              "HBox(children=(Button(button_style='primary', description='Predict', layout=Layout(width='120px'), style=Butto…"
            ]
          },
          "metadata": {},
          "output_type": "display_data"
        },
        {
          "data": {
            "application/vnd.jupyter.widget-view+json": {
              "model_id": "7c771109eaaf463bb7a9ad48c5c42deb",
              "version_major": 2,
              "version_minor": 0
            },
            "text/plain": [
              "Output()"
            ]
          },
          "metadata": {},
          "output_type": "display_data"
        }
      ],
      "source": [
        "import torch\n",
        "import numpy as np\n",
        "import ipywidgets as widgets\n",
        "from IPython.display import display\n",
        "import pickle\n",
        "from tensorflow.keras.preprocessing.sequence import pad_sequences\n",
        "import os\n",
        "\n",
        "# Set device\n",
        "device = torch.device(\"cuda\" if torch.cuda.is_available() else \"cpu\")\n",
        "print(f\"Using device: {device}\")\n",
        "\n",
        "# Load model\n",
        "try:\n",
        "    model_path = os.path.join(\"LSTM_parameter\", \"best_model.pth\")\n",
        "    model.load_state_dict(torch.load(model_path, map_location=device))\n",
        "    model.to(device)\n",
        "    model.eval()\n",
        "    print(\"Model loaded successfully.\")\n",
        "except Exception as e:\n",
        "    print(f\"Error loading model: {e}\")\n",
        "\n",
        "# Load tokenizer and label encoder\n",
        "try:\n",
        "    tokenizer_path = os.path.join(\"LSTM_parameter\", \"tokenizer.pkl\")\n",
        "    label_encoder_path = os.path.join(\"LSTM_parameter\", \"label_encoder.pkl\")\n",
        "    \n",
        "    with open(tokenizer_path, 'rb') as f:\n",
        "        tokenizer = pickle.load(f)\n",
        "    \n",
        "    with open(label_encoder_path, 'rb') as f:\n",
        "        label_encoder = pickle.load(f)\n",
        "    \n",
        "    print(\"Tokenizer and LabelEncoder loaded successfully.\")\n",
        "except Exception as e:\n",
        "    print(f\"Error loading Tokenizer or LabelEncoder: {e}\")\n",
        "\n",
        "# Keep the max length consistent with training\n",
        "MAX_LEN = 500  # Updated to match the hyperparameter value\n",
        "\n",
        "# Create input text field\n",
        "text_input = widgets.Textarea(\n",
        "    value='',\n",
        "    placeholder='Enter text for MBTI prediction...',\n",
        "    description='Input:',\n",
        "    layout=widgets.Layout(width='500px', height='150px')\n",
        ")\n",
        "\n",
        "# Create buttons and output area\n",
        "predict_button = widgets.Button(\n",
        "    description=\"Predict\", \n",
        "    button_style='primary',\n",
        "    layout=widgets.Layout(width='120px')\n",
        ")\n",
        "exit_button = widgets.Button(\n",
        "    description=\"Exit\", \n",
        "    button_style='danger',\n",
        "    layout=widgets.Layout(width='120px')\n",
        ")\n",
        "output = widgets.Output()\n",
        "\n",
        "# MBTI type descriptions for better interpretation\n",
        "mbti_descriptions = {\n",
        "    'INTJ': 'Architect - Strategic thinkers with innovative ideas',\n",
        "    'INTP': 'Logician - Innovative inventors with an unquenchable thirst for knowledge',\n",
        "    'ENTJ': 'Commander - Bold, imaginative and strong-willed leaders',\n",
        "    'ENTP': 'Debater - Smart and curious thinkers who cannot resist an intellectual challenge',\n",
        "    'INFJ': 'Advocate - Quiet and mystical, yet inspiring and tireless idealists',\n",
        "    'INFP': 'Mediator - Poetic, kind and altruistic people, always eager to help a good cause',\n",
        "    'ENFJ': 'Protagonist - Charismatic and inspiring leaders, able to mesmerize their listeners',\n",
        "    'ENFP': 'Campaigner - Enthusiastic, creative and sociable free spirits',\n",
        "    'ISTJ': 'Logistician - Practical and fact-minded individuals, reliable and responsible',\n",
        "    'ISFJ': 'Defender - Very dedicated and warm protectors, always ready to defend their loved ones',\n",
        "    'ESTJ': 'Executive - Excellent administrators, unsurpassed at managing things or people',\n",
        "    'ESFJ': 'Consul - Extraordinarily caring, social and popular people',\n",
        "    'ISTP': 'Virtuoso - Bold and practical experimenters, masters of all kinds of tools',\n",
        "    'ISFP': 'Adventurer - Flexible and charming artists, ready to explore and experience the world',\n",
        "    'ESTP': 'Entrepreneur - Smart, energetic and perceptive people',\n",
        "    'ESFP': 'Entertainer - Spontaneous, energetic and enthusiastic entertainers'\n",
        "}\n",
        "\n",
        "# Prediction function\n",
        "def predict_mbti(b):\n",
        "    with output:\n",
        "        output.clear_output()\n",
        "        user_input = text_input.value.strip()\n",
        "        \n",
        "        if not user_input:\n",
        "            print(\"⚠️ Please enter some text!\")\n",
        "            return\n",
        "        \n",
        "        try:\n",
        "            # Text preprocessing\n",
        "            sequence = tokenizer.texts_to_sequences([user_input])\n",
        "            padded_sequence = pad_sequences(sequence, maxlen=MAX_LEN, padding='post')\n",
        "            texts = torch.tensor(padded_sequence, dtype=torch.long).to(device)\n",
        "            \n",
        "            # Model prediction\n",
        "            with torch.no_grad():\n",
        "                outputs = model(texts)\n",
        "                predicted_label = outputs.argmax(1).item()\n",
        "                predicted_mbti = label_encoder.inverse_transform([predicted_label])[0]\n",
        "            \n",
        "            # Get prediction probabilities\n",
        "            probs = torch.nn.functional.softmax(outputs, dim=1)[0]\n",
        "            confidence = probs[predicted_label].item() * 100\n",
        "            \n",
        "            # Display results\n",
        "            print(\"🧠 MBTI Prediction Results:\")\n",
        "            print(f\"👉 Your MBTI type is: {predicted_mbti} (Confidence: {confidence:.2f}%)\")\n",
        "            print(f\"📝 Type Description: {mbti_descriptions.get(predicted_mbti, 'No description available')}\")\n",
        "            \n",
        "            # Show top 3 predictions if confidence is low\n",
        "            if confidence < 70:\n",
        "                print(\"\\n🔄 Alternative possibilities:\")\n",
        "                top_indices = torch.topk(probs, 3).indices.cpu().numpy()\n",
        "                for idx in top_indices:\n",
        "                    if idx != predicted_label:  # Skip the top prediction which was already shown\n",
        "                        alt_mbti = label_encoder.inverse_transform([idx])[0]\n",
        "                        alt_conf = probs[idx].item() * 100\n",
        "                        print(f\"  • {alt_mbti} ({alt_conf:.2f}%): {mbti_descriptions.get(alt_mbti, '')}\")\n",
        "                        \n",
        "        except Exception as e:\n",
        "            print(f\"❌ Error during prediction: {e}\")\n",
        "\n",
        "# Exit function simulation\n",
        "def exit_notebook(b):\n",
        "    with output:\n",
        "        output.clear_output()\n",
        "        print(\"📌 Interface closed. You can safely close or stop the notebook.\")\n",
        "\n",
        "# Bind button events\n",
        "predict_button.on_click(predict_mbti)\n",
        "exit_button.on_click(exit_notebook)\n",
        "\n",
        "# Create button layout\n",
        "button_layout = widgets.HBox([predict_button, exit_button])\n",
        "\n",
        "# Display interface\n",
        "print(\"MBTI Personality Type Predictor\")\n",
        "print(\"Enter some text to predict the MBTI personality type.\")\n",
        "display(text_input, button_layout, output)"
      ]
    },
    {
      "cell_type": "code",
      "execution_count": null,
      "metadata": {
        "id": "WvDGlxkBlm9w"
      },
      "outputs": [],
      "source": []
    }
  ],
  "metadata": {
    "accelerator": "GPU",
    "colab": {
      "gpuType": "T4",
      "provenance": []
    },
    "kernelspec": {
      "display_name": "Python 3",
      "language": "python",
      "name": "python3"
    },
    "language_info": {
      "codemirror_mode": {
        "name": "ipython",
        "version": 3
      },
      "file_extension": ".py",
      "mimetype": "text/x-python",
      "name": "python",
      "nbconvert_exporter": "python",
      "pygments_lexer": "ipython3",
      "version": "3.12.6"
    },
    "widgets": {
      "application/vnd.jupyter.widget-state+json": {
        "1b1d1cacc2f9448d9df525f81dd5a1c9": {
          "model_module": "@jupyter-widgets/controls",
          "model_module_version": "1.5.0",
          "model_name": "ButtonModel",
          "state": {
            "_dom_classes": [],
            "_model_module": "@jupyter-widgets/controls",
            "_model_module_version": "1.5.0",
            "_model_name": "ButtonModel",
            "_view_count": null,
            "_view_module": "@jupyter-widgets/controls",
            "_view_module_version": "1.5.0",
            "_view_name": "ButtonView",
            "button_style": "danger",
            "description": "退出",
            "disabled": false,
            "icon": "",
            "layout": "IPY_MODEL_db906b6c159f4ae0b1a774b4165c954b",
            "style": "IPY_MODEL_97bfd54dc30c49e98ff8720e0f9e4734",
            "tooltip": ""
          }
        },
        "3647501c18b14822ad87b7eeeafa7a23": {
          "model_module": "@jupyter-widgets/base",
          "model_module_version": "1.2.0",
          "model_name": "LayoutModel",
          "state": {
            "_model_module": "@jupyter-widgets/base",
            "_model_module_version": "1.2.0",
            "_model_name": "LayoutModel",
            "_view_count": null,
            "_view_module": "@jupyter-widgets/base",
            "_view_module_version": "1.2.0",
            "_view_name": "LayoutView",
            "align_content": null,
            "align_items": null,
            "align_self": null,
            "border": null,
            "bottom": null,
            "display": null,
            "flex": null,
            "flex_flow": null,
            "grid_area": null,
            "grid_auto_columns": null,
            "grid_auto_flow": null,
            "grid_auto_rows": null,
            "grid_column": null,
            "grid_gap": null,
            "grid_row": null,
            "grid_template_areas": null,
            "grid_template_columns": null,
            "grid_template_rows": null,
            "height": null,
            "justify_content": null,
            "justify_items": null,
            "left": null,
            "margin": null,
            "max_height": null,
            "max_width": null,
            "min_height": null,
            "min_width": null,
            "object_fit": null,
            "object_position": null,
            "order": null,
            "overflow": null,
            "overflow_x": null,
            "overflow_y": null,
            "padding": null,
            "right": null,
            "top": null,
            "visibility": null,
            "width": null
          }
        },
        "7a1215dfcf814f6091af7480f03d579b": {
          "model_module": "@jupyter-widgets/output",
          "model_module_version": "1.0.0",
          "model_name": "OutputModel",
          "state": {
            "_dom_classes": [],
            "_model_module": "@jupyter-widgets/output",
            "_model_module_version": "1.0.0",
            "_model_name": "OutputModel",
            "_view_count": null,
            "_view_module": "@jupyter-widgets/output",
            "_view_module_version": "1.0.0",
            "_view_name": "OutputView",
            "layout": "IPY_MODEL_3647501c18b14822ad87b7eeeafa7a23",
            "msg_id": "",
            "outputs": [
              {
                "name": "stdout",
                "output_type": "stream",
                "text": [
                  "🧠 模型预测结果：\n",
                  "👉 你的 MBTI 类型是：**INFP**\n"
                ]
              }
            ]
          }
        },
        "97bfd54dc30c49e98ff8720e0f9e4734": {
          "model_module": "@jupyter-widgets/controls",
          "model_module_version": "1.5.0",
          "model_name": "ButtonStyleModel",
          "state": {
            "_model_module": "@jupyter-widgets/controls",
            "_model_module_version": "1.5.0",
            "_model_name": "ButtonStyleModel",
            "_view_count": null,
            "_view_module": "@jupyter-widgets/base",
            "_view_module_version": "1.2.0",
            "_view_name": "StyleView",
            "button_color": null,
            "font_weight": ""
          }
        },
        "aed32432f25141baa9f865179200b7e9": {
          "model_module": "@jupyter-widgets/base",
          "model_module_version": "1.2.0",
          "model_name": "LayoutModel",
          "state": {
            "_model_module": "@jupyter-widgets/base",
            "_model_module_version": "1.2.0",
            "_model_name": "LayoutModel",
            "_view_count": null,
            "_view_module": "@jupyter-widgets/base",
            "_view_module_version": "1.2.0",
            "_view_name": "LayoutView",
            "align_content": null,
            "align_items": null,
            "align_self": null,
            "border": null,
            "bottom": null,
            "display": null,
            "flex": null,
            "flex_flow": null,
            "grid_area": null,
            "grid_auto_columns": null,
            "grid_auto_flow": null,
            "grid_auto_rows": null,
            "grid_column": null,
            "grid_gap": null,
            "grid_row": null,
            "grid_template_areas": null,
            "grid_template_columns": null,
            "grid_template_rows": null,
            "height": null,
            "justify_content": null,
            "justify_items": null,
            "left": null,
            "margin": null,
            "max_height": null,
            "max_width": null,
            "min_height": null,
            "min_width": null,
            "object_fit": null,
            "object_position": null,
            "order": null,
            "overflow": null,
            "overflow_x": null,
            "overflow_y": null,
            "padding": null,
            "right": null,
            "top": null,
            "visibility": null,
            "width": "400px"
          }
        },
        "b10f5bfd524b4a6699fdbdcfe2af327b": {
          "model_module": "@jupyter-widgets/controls",
          "model_module_version": "1.5.0",
          "model_name": "DescriptionStyleModel",
          "state": {
            "_model_module": "@jupyter-widgets/controls",
            "_model_module_version": "1.5.0",
            "_model_name": "DescriptionStyleModel",
            "_view_count": null,
            "_view_module": "@jupyter-widgets/base",
            "_view_module_version": "1.2.0",
            "_view_name": "StyleView",
            "description_width": ""
          }
        },
        "c91a332739054aee8b7ec7b5b0a2c521": {
          "model_module": "@jupyter-widgets/controls",
          "model_module_version": "1.5.0",
          "model_name": "TextModel",
          "state": {
            "_dom_classes": [],
            "_model_module": "@jupyter-widgets/controls",
            "_model_module_version": "1.5.0",
            "_model_name": "TextModel",
            "_view_count": null,
            "_view_module": "@jupyter-widgets/controls",
            "_view_module_version": "1.5.0",
            "_view_name": "TextView",
            "continuous_update": true,
            "description": "输入:",
            "description_tooltip": null,
            "disabled": false,
            "layout": "IPY_MODEL_aed32432f25141baa9f865179200b7e9",
            "placeholder": "请输入文本...",
            "style": "IPY_MODEL_b10f5bfd524b4a6699fdbdcfe2af327b",
            "value": "feel must really miss importance cognitive function well believe cognitive function develop model without guess would understatement best feel others notice touch emotion feel u infps almost never show emotion people unless show first go stoic robot emotional tampon quite time even good person yah care deeply congratulation compliment honestly feel gender mostly make idea impose u society physical sex one thing person feel like wrong body something free change want friend identify gender fluid feel like mean sometimes feel demure want bake wear fashionable clothe sometimes feel tough want go adventure wear practical clothe idea femininity masculinity outdated silly even everyone interest personality trait fall stereotypical gender role want think context belong category opposite category new category want example person body personality people keep encounter idea distinct way men woman suppose act future people feel anxiety wrong course think everyone self identify however want way think usually hesitant bring gender sensitive issue think definitely talkative recent example experience go friend party stress know importantly like everyone vibed really well talk hour everything harry potter ghost paranormal recently family family friend know well various thing come fe uncomfortable talk like politics clam right think depend talk mostly psychology philosophy movie hard drive watch try fit tonight thank unlike hillary already involve child sex traffic bad really shy lmao scanner thing really get help put word sense thoroughly confuse description add attack though adhd get foggy forget sound like aogether different problem misdiagnosis experience experience others know moment acute adhd akin kind anxiety attack high feel anxiety distress follow avoidance technique look like distraction happen split second sometimes distraction preempt anxiety know come pop cuure create many incorrect assumption adhd really boil form anxiety method cop preform stage petrify deal act like completely forget bury likely inane task remember scar closely pair scanner since scanner feel anxiety focus heavily one subject long due social condition also feel anxiety specialize nearly paralyze long since dea adhd without medication therapy sheer force frankly many adhd know mean mention gui snowball explain essentially give task complete certain deadline maybe complete maybe regardless nervous nervous avoid situation aogether submit effort nervous assignment absence compound continue avoid problem thing fall apart drop class quit job leave relationship core problem way force face situation part leave scanner side problem actually make use large small scale work best overstimulated engage many thing sometimes mean listen music youtube eat play videogames friend sometimes mean simuaneously five job work rush anyway end ramble guess still submit look pretty hot like tomorrowland pi user yes le know person stiff become seek happiness care try wherever broaden idea minimize ignorance harm love power metal freedom slay dragon usually cycle one follow response yeah know thank sorry weird like silence shoulder shrug stare yup unless say people really infps probably true mbti sub test system perfect silly say reeeeal one something unheahy infp would say get think little childish enjoy judge tho know find interest see another infp play hero storm lol probably"
          }
        },
        "d972607e2b8d41e8b40cfe74fc076c46": {
          "model_module": "@jupyter-widgets/controls",
          "model_module_version": "1.5.0",
          "model_name": "ButtonModel",
          "state": {
            "_dom_classes": [],
            "_model_module": "@jupyter-widgets/controls",
            "_model_module_version": "1.5.0",
            "_model_name": "ButtonModel",
            "_view_count": null,
            "_view_module": "@jupyter-widgets/controls",
            "_view_module_version": "1.5.0",
            "_view_name": "ButtonView",
            "button_style": "",
            "description": "预测",
            "disabled": false,
            "icon": "",
            "layout": "IPY_MODEL_f8fc4194bac5437b8fc45900e8a1228b",
            "style": "IPY_MODEL_f7e716f6b4da471f846ead1fdd21432d",
            "tooltip": ""
          }
        },
        "db906b6c159f4ae0b1a774b4165c954b": {
          "model_module": "@jupyter-widgets/base",
          "model_module_version": "1.2.0",
          "model_name": "LayoutModel",
          "state": {
            "_model_module": "@jupyter-widgets/base",
            "_model_module_version": "1.2.0",
            "_model_name": "LayoutModel",
            "_view_count": null,
            "_view_module": "@jupyter-widgets/base",
            "_view_module_version": "1.2.0",
            "_view_name": "LayoutView",
            "align_content": null,
            "align_items": null,
            "align_self": null,
            "border": null,
            "bottom": null,
            "display": null,
            "flex": null,
            "flex_flow": null,
            "grid_area": null,
            "grid_auto_columns": null,
            "grid_auto_flow": null,
            "grid_auto_rows": null,
            "grid_column": null,
            "grid_gap": null,
            "grid_row": null,
            "grid_template_areas": null,
            "grid_template_columns": null,
            "grid_template_rows": null,
            "height": null,
            "justify_content": null,
            "justify_items": null,
            "left": null,
            "margin": null,
            "max_height": null,
            "max_width": null,
            "min_height": null,
            "min_width": null,
            "object_fit": null,
            "object_position": null,
            "order": null,
            "overflow": null,
            "overflow_x": null,
            "overflow_y": null,
            "padding": null,
            "right": null,
            "top": null,
            "visibility": null,
            "width": null
          }
        },
        "f7e716f6b4da471f846ead1fdd21432d": {
          "model_module": "@jupyter-widgets/controls",
          "model_module_version": "1.5.0",
          "model_name": "ButtonStyleModel",
          "state": {
            "_model_module": "@jupyter-widgets/controls",
            "_model_module_version": "1.5.0",
            "_model_name": "ButtonStyleModel",
            "_view_count": null,
            "_view_module": "@jupyter-widgets/base",
            "_view_module_version": "1.2.0",
            "_view_name": "StyleView",
            "button_color": null,
            "font_weight": ""
          }
        },
        "f8fc4194bac5437b8fc45900e8a1228b": {
          "model_module": "@jupyter-widgets/base",
          "model_module_version": "1.2.0",
          "model_name": "LayoutModel",
          "state": {
            "_model_module": "@jupyter-widgets/base",
            "_model_module_version": "1.2.0",
            "_model_name": "LayoutModel",
            "_view_count": null,
            "_view_module": "@jupyter-widgets/base",
            "_view_module_version": "1.2.0",
            "_view_name": "LayoutView",
            "align_content": null,
            "align_items": null,
            "align_self": null,
            "border": null,
            "bottom": null,
            "display": null,
            "flex": null,
            "flex_flow": null,
            "grid_area": null,
            "grid_auto_columns": null,
            "grid_auto_flow": null,
            "grid_auto_rows": null,
            "grid_column": null,
            "grid_gap": null,
            "grid_row": null,
            "grid_template_areas": null,
            "grid_template_columns": null,
            "grid_template_rows": null,
            "height": null,
            "justify_content": null,
            "justify_items": null,
            "left": null,
            "margin": null,
            "max_height": null,
            "max_width": null,
            "min_height": null,
            "min_width": null,
            "object_fit": null,
            "object_position": null,
            "order": null,
            "overflow": null,
            "overflow_x": null,
            "overflow_y": null,
            "padding": null,
            "right": null,
            "top": null,
            "visibility": null,
            "width": null
          }
        }
      }
    }
  },
  "nbformat": 4,
  "nbformat_minor": 0
}
